{
 "cells": [
  {
   "cell_type": "markdown",
   "metadata": {},
   "source": [
    "# External\n",
    "\n",
    "Toutes les séries temporelles ont une fréquence quotidienne (1 point=1 jour).\n",
    "Les données sont fournies sous forme de csv, une colonne correspondant à la date, et les autres correspondant aux différentes séries temporelles\n",
    "\n",
    "### Fichier external.csv\n",
    "Ce fichier contient 2 séries temporelles, concernant des données qui ne sont pas issues de la blockchain Bitcoin, mais qui concernent l'économie Bitcoin: \n",
    "* `PriceUSD`: la valeur moyenne observée d'un Bitcoin en US dollar sur la journée sur les principales plateformes d'échange\n",
    "* `HashRate`: Le HashRate (Taux de hachage), une mesure de la puissance de calcul totale utilisée par les miners https://en.bitcoinwiki.org/wiki/Hashrate\n"
   ]
  },
  {
   "cell_type": "code",
   "execution_count": 7,
   "metadata": {},
   "outputs": [],
   "source": [
    "import numpy as np\n",
    "import pandas as pd\n",
    "import matplotlib.pyplot as plt"
   ]
  },
  {
   "cell_type": "code",
   "execution_count": 8,
   "metadata": {},
   "outputs": [
    {
     "data": {
      "text/html": [
       "<div>\n",
       "<style scoped>\n",
       "    .dataframe tbody tr th:only-of-type {\n",
       "        vertical-align: middle;\n",
       "    }\n",
       "\n",
       "    .dataframe tbody tr th {\n",
       "        vertical-align: top;\n",
       "    }\n",
       "\n",
       "    .dataframe thead th {\n",
       "        text-align: right;\n",
       "    }\n",
       "</style>\n",
       "<table border=\"1\" class=\"dataframe\">\n",
       "  <thead>\n",
       "    <tr style=\"text-align: right;\">\n",
       "      <th></th>\n",
       "      <th>Unnamed: 0</th>\n",
       "      <th>date</th>\n",
       "      <th>PriceUSD</th>\n",
       "      <th>HashRate</th>\n",
       "    </tr>\n",
       "  </thead>\n",
       "  <tbody>\n",
       "    <tr>\n",
       "      <th>0</th>\n",
       "      <td>2190</td>\n",
       "      <td>2015-01-02</td>\n",
       "      <td>315.942732</td>\n",
       "      <td>3.333450e+05</td>\n",
       "    </tr>\n",
       "    <tr>\n",
       "      <th>1</th>\n",
       "      <td>2191</td>\n",
       "      <td>2015-01-03</td>\n",
       "      <td>285.647310</td>\n",
       "      <td>3.272842e+05</td>\n",
       "    </tr>\n",
       "    <tr>\n",
       "      <th>2</th>\n",
       "      <td>2192</td>\n",
       "      <td>2015-01-04</td>\n",
       "      <td>263.334575</td>\n",
       "      <td>3.474869e+05</td>\n",
       "    </tr>\n",
       "    <tr>\n",
       "      <th>3</th>\n",
       "      <td>2193</td>\n",
       "      <td>2015-01-05</td>\n",
       "      <td>275.003852</td>\n",
       "      <td>3.151626e+05</td>\n",
       "    </tr>\n",
       "    <tr>\n",
       "      <th>4</th>\n",
       "      <td>2194</td>\n",
       "      <td>2015-01-06</td>\n",
       "      <td>287.549521</td>\n",
       "      <td>3.192031e+05</td>\n",
       "    </tr>\n",
       "    <tr>\n",
       "      <th>...</th>\n",
       "      <td>...</td>\n",
       "      <td>...</td>\n",
       "      <td>...</td>\n",
       "      <td>...</td>\n",
       "    </tr>\n",
       "    <tr>\n",
       "      <th>906</th>\n",
       "      <td>3096</td>\n",
       "      <td>2017-06-26</td>\n",
       "      <td>2426.365051</td>\n",
       "      <td>5.023770e+06</td>\n",
       "    </tr>\n",
       "    <tr>\n",
       "      <th>907</th>\n",
       "      <td>3097</td>\n",
       "      <td>2017-06-27</td>\n",
       "      <td>2530.345536</td>\n",
       "      <td>4.634604e+06</td>\n",
       "    </tr>\n",
       "    <tr>\n",
       "      <th>908</th>\n",
       "      <td>3098</td>\n",
       "      <td>2017-06-28</td>\n",
       "      <td>2562.792264</td>\n",
       "      <td>5.554450e+06</td>\n",
       "    </tr>\n",
       "    <tr>\n",
       "      <th>909</th>\n",
       "      <td>3099</td>\n",
       "      <td>2017-06-29</td>\n",
       "      <td>2540.443032</td>\n",
       "      <td>4.245439e+06</td>\n",
       "    </tr>\n",
       "    <tr>\n",
       "      <th>910</th>\n",
       "      <td>3100</td>\n",
       "      <td>2017-06-30</td>\n",
       "      <td>2452.712064</td>\n",
       "      <td>5.448314e+06</td>\n",
       "    </tr>\n",
       "  </tbody>\n",
       "</table>\n",
       "<p>911 rows × 4 columns</p>\n",
       "</div>"
      ],
      "text/plain": [
       "     Unnamed: 0        date     PriceUSD      HashRate\n",
       "0          2190  2015-01-02   315.942732  3.333450e+05\n",
       "1          2191  2015-01-03   285.647310  3.272842e+05\n",
       "2          2192  2015-01-04   263.334575  3.474869e+05\n",
       "3          2193  2015-01-05   275.003852  3.151626e+05\n",
       "4          2194  2015-01-06   287.549521  3.192031e+05\n",
       "..          ...         ...          ...           ...\n",
       "906        3096  2017-06-26  2426.365051  5.023770e+06\n",
       "907        3097  2017-06-27  2530.345536  4.634604e+06\n",
       "908        3098  2017-06-28  2562.792264  5.554450e+06\n",
       "909        3099  2017-06-29  2540.443032  4.245439e+06\n",
       "910        3100  2017-06-30  2452.712064  5.448314e+06\n",
       "\n",
       "[911 rows x 4 columns]"
      ]
     },
     "execution_count": 8,
     "metadata": {},
     "output_type": "execute_result"
    }
   ],
   "source": [
    "ds = pd.read_csv('timeseries/external.csv')\n",
    "ds"
   ]
  },
  {
   "cell_type": "code",
   "execution_count": 12,
   "metadata": {},
   "outputs": [],
   "source": [
    "ds = ds.drop(columns='Unnamed: 0')"
   ]
  },
  {
   "cell_type": "markdown",
   "metadata": {},
   "source": [
    "### Calcul de l'évolution du HashRate au fil du temps (2 ans)\n",
    "\n",
    "Comparaison entre la première valeur relevée le 2015/01/02 et la dernière 2017/03/12"
   ]
  },
  {
   "cell_type": "code",
   "execution_count": 51,
   "metadata": {},
   "outputs": [
    {
     "data": {
      "text/plain": [
       "<AxesSubplot:xlabel='date'>"
      ]
     },
     "execution_count": 51,
     "metadata": {},
     "output_type": "execute_result"
    },
    {
     "data": {
      "image/png": "[encoded data removed]",
      "text/plain": [
       "<Figure size 432x288 with 1 Axes>"
      ]
     },
     "metadata": {
      "needs_background": "light"
     },
     "output_type": "display_data"
    }
   ],
   "source": [
    "ds.plot(x ='date', y ='HashRate', color = 'red')"
   ]
  },
  {
   "cell_type": "code",
   "execution_count": 47,
   "metadata": {},
   "outputs": [
    {
     "data": {
      "text/plain": [
       "1534.4367843338666"
      ]
     },
     "execution_count": 47,
     "metadata": {},
     "output_type": "execute_result"
    }
   ],
   "source": [
    "evolution = ((ds.HashRate.iloc[-1] - ds.HashRate.iloc[0]) / ds.HashRate.iloc[0]) * 100\n",
    "evolution"
   ]
  },
  {
   "cell_type": "markdown",
   "metadata": {},
   "source": [
    "Le calcul ci-dessus sur les données du HashRate nous montre que la puissance de calcul des mineurs de la blockchain a augmenté de **1500%** en deux ans.\n",
    "Cela traduit surement l'augmentation du nombre d'acteurs pour le minage."
   ]
  },
  {
   "cell_type": "markdown",
   "metadata": {},
   "source": [
    "### Analyse du PriceUSD"
   ]
  },
  {
   "cell_type": "code",
   "execution_count": 49,
   "metadata": {},
   "outputs": [
    {
     "data": {
      "text/plain": [
       "<AxesSubplot:xlabel='date'>"
      ]
     },
     "execution_count": 49,
     "metadata": {},
     "output_type": "execute_result"
    },
    {
     "data": {
      "image/png": "[encoded data removed]",
      "text/plain": [
       "<Figure size 432x288 with 1 Axes>"
      ]
     },
     "metadata": {
      "needs_background": "light"
     },
     "output_type": "display_data"
    }
   ],
   "source": [
    "ds.plot(x ='date', y ='PriceUSD')"
   ]
  }
 ],
 "metadata": {
  "kernelspec": {
   "display_name": "Python 3",
   "language": "python",
   "name": "python3"
  },
  "language_info": {
   "codemirror_mode": {
    "name": "ipython",
    "version": 3
   },
   "file_extension": ".py",
   "mimetype": "text/x-python",
   "name": "python",
   "nbconvert_exporter": "python",
   "pygments_lexer": "ipython3",
   "version": "3.8.5"
  }
 },
 "nbformat": 4,
 "nbformat_minor": 4
}
