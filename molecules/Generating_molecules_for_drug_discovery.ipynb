{
  "metadata": {
    "kernelspec": {
      "name": "python3",
      "display_name": "Python 3"
    },
    "language_info": {
      "name": "python",
      "version": "3.10.12",
      "mimetype": "text/x-python",
      "codemirror_mode": {
        "name": "ipython",
        "version": 3
      },
      "pygments_lexer": "ipython3",
      "nbconvert_exporter": "python",
      "file_extension": ".py"
    },
    "colab": {
      "provenance": [],
      "gpuType": "T4"
    },
    "accelerator": "GPU"
  },
  "nbformat_minor": 0,
  "nbformat": 4,
  "cells": [
    {
      "cell_type": "code",
      "source": [
        "import numpy as np\n",
        "import matplotlib.pyplot as plt\n",
        "import pandas as pd\n",
        "import tensorflow as tf\n",
        "import seaborn as sns\n",
        "\n",
        "from sklearn.metrics import confusion_matrix\n",
        "from keras.layers import LSTM, Dropout, Dense, BatchNormalization\n",
        "from keras.callbacks import ReduceLROnPlateau, EarlyStopping\n",
        "from keras.regularizers import l2\n",
        "from keras.preprocessing.text import Tokenizer\n",
        "from keras import Sequential"
      ],
      "metadata": {
        "id": "h-fYd1Vvy2fy",
        "trusted": true
      },
      "execution_count": 1,
      "outputs": []
    },
    {
      "cell_type": "markdown",
      "source": [
        "# RNN Based molucule generation\n",
        "\n",
        "Laurent Cetinsoy\n",
        "\n",
        "In this hands-on we want to generate molecule formulas for denovo-drug discovery.\n",
        "\n",
        "For that we need to use Generative models. Generative models are models which goes beyond classification or simple regression : they are able to generate data that look like previously seens dataset.\n",
        "\n",
        "There exists a lot of models :\n",
        "\n",
        "- Bayesian models like graphical models\n",
        "- Recurrent models (for sequence generation like texte)\n",
        "- Variational auto encoders\n",
        "- Generative adversarial models\n",
        "- Flow and diffusion models\n",
        "\n",
        "\n",
        "In the hands-on we will start by  trainning a character based RNN to generate smile molecules\n",
        "\n",
        "\n",
        "We want to feed smile representations of molecules to an RNN.\n",
        "The basic idea is we will train it to predict the next smile token of a molecule given the previous one.\n",
        "\n",
        "For instance for the following molecule \"CC(=O)NC1=CC=C(O)C=C1\" will may give to the model\n",
        "\n",
        "X = \"CC(=O)N\"\n",
        "y = C\n",
        "\n",
        "and ask the RNN to learn to predict y given X\n",
        "\n",
        "Like a standard language model !\n"
      ],
      "metadata": {
        "id": "7YhDx0Tsyyhd"
      }
    },
    {
      "cell_type": "markdown",
      "source": [
        "## RNN Language model\n",
        "\n",
        "\n",
        "A language model is a model which predict the next token of a sequence given the previous ones :\n",
        "\n",
        "$ P(X_t | X_{t-1}, X_{t-2}, ..., X_{t-p})  $\n",
        "\n",
        "\n",
        "This model can be learned with a Recurrent neural network\n",
        "\n",
        "$ y = P(X_t | X_{t-1}, X_{t-2}, ..., X_{t-p}) = RNN_{\\theta} (X_{t-1}, X_{t-2}, ..., X_{t-p})  $\n",
        "\n",
        "\n",
        "In order to train such model you need a corpus of data.\n",
        "\n",
        "\n",
        "\n",
        "There are two main ways to do that : Word level model or character level model\n",
        "\n",
        "For character level models, an interesting resource is : http://karpathy.github.io/2015/05/21/rnn-effectiveness/\n",
        "\n"
      ],
      "metadata": {
        "id": "c-Que9IFyyhk"
      }
    },
    {
      "cell_type": "markdown",
      "source": [
        "Explain briefly what is the difference between word based language model and character based language model ?\n",
        "\n",
        "A word-based RNN can generate text using words from the training corpus but never new words. In contrast, a character-based RNN can produce new words. This property is interesting because we aim to create new molecules, which can be represented as words."
      ],
      "metadata": {
        "id": "ZaSGBHWXyyhm"
      }
    },
    {
      "cell_type": "markdown",
      "source": [
        "## Loading the data"
      ],
      "metadata": {
        "id": "WU_SbWlJyyhn"
      }
    },
    {
      "cell_type": "markdown",
      "source": [
        "Dowload the following dataset : https://github.com/joeymach/Leveraging-VAE-to-generate-molecules"
      ],
      "metadata": {
        "id": "9CAnQcj3yyho"
      }
    },
    {
      "cell_type": "markdown",
      "source": [
        "Import pandas and load the first 1000 lines"
      ],
      "metadata": {
        "id": "nyvW9PMyyyhr"
      }
    },
    {
      "cell_type": "code",
      "source": [
        "!wget  'https://raw.githubusercontent.com/joeymach/Leveraging-VAE-to-generate-molecules/master/250k_smiles.csv'"
      ],
      "metadata": {
        "id": "p2FuRl15yyhr",
        "colab": {
          "base_uri": "https://localhost:8080/"
        },
        "outputId": "bb333b28-ae53-4184-cbce-f61dc95898e2",
        "trusted": true
      },
      "execution_count": 2,
      "outputs": [
        {
          "output_type": "stream",
          "name": "stdout",
          "text": [
            "--2023-09-25 18:00:12--  https://raw.githubusercontent.com/joeymach/Leveraging-VAE-to-generate-molecules/master/250k_smiles.csv\n",
            "Resolving raw.githubusercontent.com (raw.githubusercontent.com)... 185.199.108.133, 185.199.109.133, 185.199.110.133, ...\n",
            "Connecting to raw.githubusercontent.com (raw.githubusercontent.com)|185.199.108.133|:443... connected.\n",
            "HTTP request sent, awaiting response... 200 OK\n",
            "Length: 22606589 (22M) [text/plain]\n",
            "Saving to: ‘250k_smiles.csv.1’\n",
            "\n",
            "250k_smiles.csv.1   100%[===================>]  21.56M  --.-KB/s    in 0.09s   \n",
            "\n",
            "2023-09-25 18:00:14 (243 MB/s) - ‘250k_smiles.csv.1’ saved [22606589/22606589]\n",
            "\n"
          ]
        }
      ]
    },
    {
      "cell_type": "markdown",
      "source": [
        "Display the first rows of the dataframe"
      ],
      "metadata": {
        "id": "gO3XWPQMyyhs"
      }
    },
    {
      "cell_type": "code",
      "source": [
        "path_dataframe = \"250k_smiles.csv\"\n",
        "df = pd.read_csv(path_dataframe)\n",
        "df.head()"
      ],
      "metadata": {
        "id": "zjQ6_NK3yyht",
        "colab": {
          "base_uri": "https://localhost:8080/",
          "height": 206
        },
        "outputId": "5a29739f-fe76-441c-d49e-795d0ccd0769",
        "trusted": true
      },
      "execution_count": 3,
      "outputs": [
        {
          "output_type": "execute_result",
          "data": {
            "text/plain": [
              "                                              smiles     logP       qed  \\\n",
              "0          CC(C)(C)c1ccc2occ(CC(=O)Nc3ccccc3F)c2c1\\n  5.05060  0.702012   \n",
              "1     C[C@@H]1CC(Nc2cncc(-c3nncn3C)c2)C[C@@H](C)C1\\n  3.11370  0.928975   \n",
              "2  N#Cc1ccc(-c2ccc(O[C@@H](C(=O)N3CCCC3)c3ccccc3)...  4.96778  0.599682   \n",
              "3  CCOC(=O)[C@@H]1CCCN(C(=O)c2nc(-c3ccc(C)cc3)n3c...  4.00022  0.690944   \n",
              "4  N#CC1=C(SCC(=O)Nc2cccc(Cl)c2)N=C([O-])[C@H](C#...  3.60956  0.789027   \n",
              "\n",
              "        SAS  \n",
              "0  2.084095  \n",
              "1  3.432004  \n",
              "2  2.470633  \n",
              "3  2.822753  \n",
              "4  4.035182  "
            ],
            "text/html": [
              "\n",
              "  <div id=\"df-7193baa4-5fc8-4b92-a479-a05b1941ffbf\" class=\"colab-df-container\">\n",
              "    <div>\n",
              "<style scoped>\n",
              "    .dataframe tbody tr th:only-of-type {\n",
              "        vertical-align: middle;\n",
              "    }\n",
              "\n",
              "    .dataframe tbody tr th {\n",
              "        vertical-align: top;\n",
              "    }\n",
              "\n",
              "    .dataframe thead th {\n",
              "        text-align: right;\n",
              "    }\n",
              "</style>\n",
              "<table border=\"1\" class=\"dataframe\">\n",
              "  <thead>\n",
              "    <tr style=\"text-align: right;\">\n",
              "      <th></th>\n",
              "      <th>smiles</th>\n",
              "      <th>logP</th>\n",
              "      <th>qed</th>\n",
              "      <th>SAS</th>\n",
              "    </tr>\n",
              "  </thead>\n",
              "  <tbody>\n",
              "    <tr>\n",
              "      <th>0</th>\n",
              "      <td>CC(C)(C)c1ccc2occ(CC(=O)Nc3ccccc3F)c2c1\\n</td>\n",
              "      <td>5.05060</td>\n",
              "      <td>0.702012</td>\n",
              "      <td>2.084095</td>\n",
              "    </tr>\n",
              "    <tr>\n",
              "      <th>1</th>\n",
              "      <td>C[C@@H]1CC(Nc2cncc(-c3nncn3C)c2)C[C@@H](C)C1\\n</td>\n",
              "      <td>3.11370</td>\n",
              "      <td>0.928975</td>\n",
              "      <td>3.432004</td>\n",
              "    </tr>\n",
              "    <tr>\n",
              "      <th>2</th>\n",
              "      <td>N#Cc1ccc(-c2ccc(O[C@@H](C(=O)N3CCCC3)c3ccccc3)...</td>\n",
              "      <td>4.96778</td>\n",
              "      <td>0.599682</td>\n",
              "      <td>2.470633</td>\n",
              "    </tr>\n",
              "    <tr>\n",
              "      <th>3</th>\n",
              "      <td>CCOC(=O)[C@@H]1CCCN(C(=O)c2nc(-c3ccc(C)cc3)n3c...</td>\n",
              "      <td>4.00022</td>\n",
              "      <td>0.690944</td>\n",
              "      <td>2.822753</td>\n",
              "    </tr>\n",
              "    <tr>\n",
              "      <th>4</th>\n",
              "      <td>N#CC1=C(SCC(=O)Nc2cccc(Cl)c2)N=C([O-])[C@H](C#...</td>\n",
              "      <td>3.60956</td>\n",
              "      <td>0.789027</td>\n",
              "      <td>4.035182</td>\n",
              "    </tr>\n",
              "  </tbody>\n",
              "</table>\n",
              "</div>\n",
              "    <div class=\"colab-df-buttons\">\n",
              "\n",
              "  <div class=\"colab-df-container\">\n",
              "    <button class=\"colab-df-convert\" onclick=\"convertToInteractive('df-7193baa4-5fc8-4b92-a479-a05b1941ffbf')\"\n",
              "            title=\"Convert this dataframe to an interactive table.\"\n",
              "            style=\"display:none;\">\n",
              "\n",
              "  <svg xmlns=\"http://www.w3.org/2000/svg\" height=\"24px\" viewBox=\"0 -960 960 960\">\n",
              "    <path d=\"M120-120v-720h720v720H120Zm60-500h600v-160H180v160Zm220 220h160v-160H400v160Zm0 220h160v-160H400v160ZM180-400h160v-160H180v160Zm440 0h160v-160H620v160ZM180-180h160v-160H180v160Zm440 0h160v-160H620v160Z\"/>\n",
              "  </svg>\n",
              "    </button>\n",
              "\n",
              "  <style>\n",
              "    .colab-df-container {\n",
              "      display:flex;\n",
              "      gap: 12px;\n",
              "    }\n",
              "\n",
              "    .colab-df-convert {\n",
              "      background-color: #E8F0FE;\n",
              "      border: none;\n",
              "      border-radius: 50%;\n",
              "      cursor: pointer;\n",
              "      display: none;\n",
              "      fill: #1967D2;\n",
              "      height: 32px;\n",
              "      padding: 0 0 0 0;\n",
              "      width: 32px;\n",
              "    }\n",
              "\n",
              "    .colab-df-convert:hover {\n",
              "      background-color: #E2EBFA;\n",
              "      box-shadow: 0px 1px 2px rgba(60, 64, 67, 0.3), 0px 1px 3px 1px rgba(60, 64, 67, 0.15);\n",
              "      fill: #174EA6;\n",
              "    }\n",
              "\n",
              "    .colab-df-buttons div {\n",
              "      margin-bottom: 4px;\n",
              "    }\n",
              "\n",
              "    [theme=dark] .colab-df-convert {\n",
              "      background-color: #3B4455;\n",
              "      fill: #D2E3FC;\n",
              "    }\n",
              "\n",
              "    [theme=dark] .colab-df-convert:hover {\n",
              "      background-color: #434B5C;\n",
              "      box-shadow: 0px 1px 3px 1px rgba(0, 0, 0, 0.15);\n",
              "      filter: drop-shadow(0px 1px 2px rgba(0, 0, 0, 0.3));\n",
              "      fill: #FFFFFF;\n",
              "    }\n",
              "  </style>\n",
              "\n",
              "    <script>\n",
              "      const buttonEl =\n",
              "        document.querySelector('#df-7193baa4-5fc8-4b92-a479-a05b1941ffbf button.colab-df-convert');\n",
              "      buttonEl.style.display =\n",
              "        google.colab.kernel.accessAllowed ? 'block' : 'none';\n",
              "\n",
              "      async function convertToInteractive(key) {\n",
              "        const element = document.querySelector('#df-7193baa4-5fc8-4b92-a479-a05b1941ffbf');\n",
              "        const dataTable =\n",
              "          await google.colab.kernel.invokeFunction('convertToInteractive',\n",
              "                                                    [key], {});\n",
              "        if (!dataTable) return;\n",
              "\n",
              "        const docLinkHtml = 'Like what you see? Visit the ' +\n",
              "          '<a target=\"_blank\" href=https://colab.research.google.com/notebooks/data_table.ipynb>data table notebook</a>'\n",
              "          + ' to learn more about interactive tables.';\n",
              "        element.innerHTML = '';\n",
              "        dataTable['output_type'] = 'display_data';\n",
              "        await google.colab.output.renderOutput(dataTable, element);\n",
              "        const docLink = document.createElement('div');\n",
              "        docLink.innerHTML = docLinkHtml;\n",
              "        element.appendChild(docLink);\n",
              "      }\n",
              "    </script>\n",
              "  </div>\n",
              "\n",
              "\n",
              "<div id=\"df-ce7edd34-9a17-444b-b1be-6a4069873687\">\n",
              "  <button class=\"colab-df-quickchart\" onclick=\"quickchart('df-ce7edd34-9a17-444b-b1be-6a4069873687')\"\n",
              "            title=\"Suggest charts.\"\n",
              "            style=\"display:none;\">\n",
              "\n",
              "<svg xmlns=\"http://www.w3.org/2000/svg\" height=\"24px\"viewBox=\"0 0 24 24\"\n",
              "     width=\"24px\">\n",
              "    <g>\n",
              "        <path d=\"M19 3H5c-1.1 0-2 .9-2 2v14c0 1.1.9 2 2 2h14c1.1 0 2-.9 2-2V5c0-1.1-.9-2-2-2zM9 17H7v-7h2v7zm4 0h-2V7h2v10zm4 0h-2v-4h2v4z\"/>\n",
              "    </g>\n",
              "</svg>\n",
              "  </button>\n",
              "\n",
              "<style>\n",
              "  .colab-df-quickchart {\n",
              "      --bg-color: #E8F0FE;\n",
              "      --fill-color: #1967D2;\n",
              "      --hover-bg-color: #E2EBFA;\n",
              "      --hover-fill-color: #174EA6;\n",
              "      --disabled-fill-color: #AAA;\n",
              "      --disabled-bg-color: #DDD;\n",
              "  }\n",
              "\n",
              "  [theme=dark] .colab-df-quickchart {\n",
              "      --bg-color: #3B4455;\n",
              "      --fill-color: #D2E3FC;\n",
              "      --hover-bg-color: #434B5C;\n",
              "      --hover-fill-color: #FFFFFF;\n",
              "      --disabled-bg-color: #3B4455;\n",
              "      --disabled-fill-color: #666;\n",
              "  }\n",
              "\n",
              "  .colab-df-quickchart {\n",
              "    background-color: var(--bg-color);\n",
              "    border: none;\n",
              "    border-radius: 50%;\n",
              "    cursor: pointer;\n",
              "    display: none;\n",
              "    fill: var(--fill-color);\n",
              "    height: 32px;\n",
              "    padding: 0;\n",
              "    width: 32px;\n",
              "  }\n",
              "\n",
              "  .colab-df-quickchart:hover {\n",
              "    background-color: var(--hover-bg-color);\n",
              "    box-shadow: 0 1px 2px rgba(60, 64, 67, 0.3), 0 1px 3px 1px rgba(60, 64, 67, 0.15);\n",
              "    fill: var(--button-hover-fill-color);\n",
              "  }\n",
              "\n",
              "  .colab-df-quickchart-complete:disabled,\n",
              "  .colab-df-quickchart-complete:disabled:hover {\n",
              "    background-color: var(--disabled-bg-color);\n",
              "    fill: var(--disabled-fill-color);\n",
              "    box-shadow: none;\n",
              "  }\n",
              "\n",
              "  .colab-df-spinner {\n",
              "    border: 2px solid var(--fill-color);\n",
              "    border-color: transparent;\n",
              "    border-bottom-color: var(--fill-color);\n",
              "    animation:\n",
              "      spin 1s steps(1) infinite;\n",
              "  }\n",
              "\n",
              "  @keyframes spin {\n",
              "    0% {\n",
              "      border-color: transparent;\n",
              "      border-bottom-color: var(--fill-color);\n",
              "      border-left-color: var(--fill-color);\n",
              "    }\n",
              "    20% {\n",
              "      border-color: transparent;\n",
              "      border-left-color: var(--fill-color);\n",
              "      border-top-color: var(--fill-color);\n",
              "    }\n",
              "    30% {\n",
              "      border-color: transparent;\n",
              "      border-left-color: var(--fill-color);\n",
              "      border-top-color: var(--fill-color);\n",
              "      border-right-color: var(--fill-color);\n",
              "    }\n",
              "    40% {\n",
              "      border-color: transparent;\n",
              "      border-right-color: var(--fill-color);\n",
              "      border-top-color: var(--fill-color);\n",
              "    }\n",
              "    60% {\n",
              "      border-color: transparent;\n",
              "      border-right-color: var(--fill-color);\n",
              "    }\n",
              "    80% {\n",
              "      border-color: transparent;\n",
              "      border-right-color: var(--fill-color);\n",
              "      border-bottom-color: var(--fill-color);\n",
              "    }\n",
              "    90% {\n",
              "      border-color: transparent;\n",
              "      border-bottom-color: var(--fill-color);\n",
              "    }\n",
              "  }\n",
              "</style>\n",
              "\n",
              "  <script>\n",
              "    async function quickchart(key) {\n",
              "      const quickchartButtonEl =\n",
              "        document.querySelector('#' + key + ' button');\n",
              "      quickchartButtonEl.disabled = true;  // To prevent multiple clicks.\n",
              "      quickchartButtonEl.classList.add('colab-df-spinner');\n",
              "      try {\n",
              "        const charts = await google.colab.kernel.invokeFunction(\n",
              "            'suggestCharts', [key], {});\n",
              "      } catch (error) {\n",
              "        console.error('Error during call to suggestCharts:', error);\n",
              "      }\n",
              "      quickchartButtonEl.classList.remove('colab-df-spinner');\n",
              "      quickchartButtonEl.classList.add('colab-df-quickchart-complete');\n",
              "    }\n",
              "    (() => {\n",
              "      let quickchartButtonEl =\n",
              "        document.querySelector('#df-ce7edd34-9a17-444b-b1be-6a4069873687 button');\n",
              "      quickchartButtonEl.style.display =\n",
              "        google.colab.kernel.accessAllowed ? 'block' : 'none';\n",
              "    })();\n",
              "  </script>\n",
              "</div>\n",
              "    </div>\n",
              "  </div>\n"
            ]
          },
          "metadata": {},
          "execution_count": 3
        }
      ]
    },
    {
      "cell_type": "code",
      "source": [
        "df.shape"
      ],
      "metadata": {
        "colab": {
          "base_uri": "https://localhost:8080/"
        },
        "id": "alf8tYPuzWww",
        "outputId": "ae0380a8-0af4-4897-db11-9a444a3fe509",
        "trusted": true
      },
      "execution_count": 4,
      "outputs": [
        {
          "output_type": "execute_result",
          "data": {
            "text/plain": [
              "(249455, 4)"
            ]
          },
          "metadata": {},
          "execution_count": 4
        }
      ]
    },
    {
      "cell_type": "code",
      "source": [
        "df.loc[1000, 'smiles']"
      ],
      "metadata": {
        "colab": {
          "base_uri": "https://localhost:8080/",
          "height": 35
        },
        "id": "2YWgRkP94qbx",
        "outputId": "2e7ecfd1-35a1-4162-af13-d84c92ab8cf1",
        "trusted": true
      },
      "execution_count": 5,
      "outputs": [
        {
          "output_type": "execute_result",
          "data": {
            "text/plain": [
              "'[NH3+][C@@H](CSCc1nccs1)C(=O)[O-]\\n'"
            ],
            "application/vnd.google.colaboratory.intrinsic+json": {
              "type": "string"
            }
          },
          "metadata": {},
          "execution_count": 5
        }
      ]
    },
    {
      "cell_type": "markdown",
      "source": [
        "## Processing the data\n",
        "\n",
        "We need to do the following things :\n",
        "\n",
        "- convert smile tokens to numbers\n",
        "- build  smile token sequences and corresponding labels pairs"
      ],
      "metadata": {
        "id": "VfyMV4QXyyhu"
      }
    },
    {
      "cell_type": "markdown",
      "source": [
        "Compute the biggest smile molecule size"
      ],
      "metadata": {
        "id": "C-wwZXCOyyhu"
      }
    },
    {
      "cell_type": "code",
      "source": [
        "biggest_smile_index = df['smiles'].apply(len).argmax()\n",
        "biggest_smile = df['smiles'][biggest_smile_index]\n",
        "biggest_smile"
      ],
      "metadata": {
        "id": "FMkUcyH3yyhv",
        "colab": {
          "base_uri": "https://localhost:8080/",
          "height": 53
        },
        "outputId": "7c895ed6-6fff-4d25-ce57-036f71417acd",
        "trusted": true
      },
      "execution_count": 6,
      "outputs": [
        {
          "output_type": "execute_result",
          "data": {
            "text/plain": [
              "'C[C@]12C=CC(=O)C=C1CC[C@@H]1[C@@H]2CC[C@@]2(C)[C@H]1CC[C@H]2O[C@@H]1O[C@H](C(=O)[O-])[C@@H](O)[C@H](O)[C@H]1O\\n'"
            ],
            "application/vnd.google.colaboratory.intrinsic+json": {
              "type": "string"
            }
          },
          "metadata": {},
          "execution_count": 6
        }
      ]
    },
    {
      "cell_type": "markdown",
      "source": [
        "\n",
        "Code a function **unic_characters(string)** which return the unic characters in a string\n"
      ],
      "metadata": {
        "id": "7WrIDz_cyyhv"
      }
    },
    {
      "cell_type": "code",
      "source": [
        "def unic_characters(str_):\n",
        "  res = \"\"\n",
        "  for s in set(str_):\n",
        "    res += s\n",
        "  return res\n",
        "\n",
        "unic_characters(biggest_smile)"
      ],
      "metadata": {
        "id": "alXR3qcHyyhw",
        "colab": {
          "base_uri": "https://localhost:8080/",
          "height": 35
        },
        "outputId": "2e3ec9f8-13aa-47d2-c26a-ef75a597e986",
        "trusted": true
      },
      "execution_count": 7,
      "outputs": [
        {
          "output_type": "execute_result",
          "data": {
            "text/plain": [
              "'(\\n)-[=H]12@CO'"
            ],
            "application/vnd.google.colaboratory.intrinsic+json": {
              "type": "string"
            }
          },
          "metadata": {},
          "execution_count": 7
        }
      ]
    },
    {
      "cell_type": "markdown",
      "source": [
        "Concatenate all smile string of the pandas dataframe and use **unic_characters** to get the unic_characters"
      ],
      "metadata": {
        "id": "4DITuFSeyyhx"
      }
    },
    {
      "cell_type": "code",
      "source": [
        "all = \"\"\n",
        "for str_ in df['smiles']:\n",
        "  all += str_\n",
        "\n",
        "unic_c = unic_characters(all)\n",
        "unic_c"
      ],
      "metadata": {
        "id": "Pweel8bxyyhx",
        "colab": {
          "base_uri": "https://localhost:8080/",
          "height": 35
        },
        "outputId": "68248663-cbd1-4cda-d01f-ce76d2d06780",
        "trusted": true
      },
      "execution_count": 8,
      "outputs": [
        {
          "output_type": "execute_result",
          "data": {
            "text/plain": [
              "'785)+\\\\1P/6o[r42OCn\\n-3IH#sBlSF(c=]@N'"
            ],
            "application/vnd.google.colaboratory.intrinsic+json": {
              "type": "string"
            }
          },
          "metadata": {},
          "execution_count": 8
        }
      ]
    },
    {
      "cell_type": "code",
      "source": [
        "list_unic = np.sort(list(unic_c))\n",
        "list_unic"
      ],
      "metadata": {
        "colab": {
          "base_uri": "https://localhost:8080/"
        },
        "id": "0VgIBKKEAe_p",
        "outputId": "73b2f3ec-874b-4887-d602-9ad3ad846ddb",
        "trusted": true
      },
      "execution_count": 9,
      "outputs": [
        {
          "output_type": "execute_result",
          "data": {
            "text/plain": [
              "array(['\\n', '#', '(', ')', '+', '-', '/', '1', '2', '3', '4', '5', '6',\n",
              "       '7', '8', '=', '@', 'B', 'C', 'F', 'H', 'I', 'N', 'O', 'P', 'S',\n",
              "       '[', '\\\\', ']', 'c', 'l', 'n', 'o', 'r', 's'], dtype='<U1')"
            ]
          },
          "metadata": {},
          "execution_count": 9
        }
      ]
    },
    {
      "cell_type": "markdown",
      "source": [
        "Code a function **map_char_to_int(unic_chars)** which returns a dictionnary where each char is assigned an int value.\n",
        "Add a character to specify the end of the molecule (like \"\\n\")\n"
      ],
      "metadata": {
        "id": "LXmrYw-nyyhy"
      }
    },
    {
      "cell_type": "code",
      "source": [
        "def map_char_to_int(unic_chars):\n",
        "  range_ = np.arange(unic_chars.shape[0])\n",
        "  pair = zip(unic_chars, range_)\n",
        "  return dict(pair)\n",
        "\n",
        "char_to_int = map_char_to_int(list_unic)\n",
        "char_to_int"
      ],
      "metadata": {
        "id": "dPvQzt1Oyyhy",
        "colab": {
          "base_uri": "https://localhost:8080/"
        },
        "outputId": "eeab7be8-7df1-4ac0-f1ff-5b14c89c74be",
        "trusted": true
      },
      "execution_count": 10,
      "outputs": [
        {
          "output_type": "execute_result",
          "data": {
            "text/plain": [
              "{'\\n': 0,\n",
              " '#': 1,\n",
              " '(': 2,\n",
              " ')': 3,\n",
              " '+': 4,\n",
              " '-': 5,\n",
              " '/': 6,\n",
              " '1': 7,\n",
              " '2': 8,\n",
              " '3': 9,\n",
              " '4': 10,\n",
              " '5': 11,\n",
              " '6': 12,\n",
              " '7': 13,\n",
              " '8': 14,\n",
              " '=': 15,\n",
              " '@': 16,\n",
              " 'B': 17,\n",
              " 'C': 18,\n",
              " 'F': 19,\n",
              " 'H': 20,\n",
              " 'I': 21,\n",
              " 'N': 22,\n",
              " 'O': 23,\n",
              " 'P': 24,\n",
              " 'S': 25,\n",
              " '[': 26,\n",
              " '\\\\': 27,\n",
              " ']': 28,\n",
              " 'c': 29,\n",
              " 'l': 30,\n",
              " 'n': 31,\n",
              " 'o': 32,\n",
              " 'r': 33,\n",
              " 's': 34}"
            ]
          },
          "metadata": {},
          "execution_count": 10
        }
      ]
    },
    {
      "cell_type": "code",
      "source": [
        "def transform_char(string):\n",
        "  return [char_to_int[s] for s in string]\n",
        "\n",
        "sample_1 = \"CC(C)(C)c1ccc2occ(CC(=O)Nc3ccccc3F)c2c1\\n\"\n",
        "ex_1 = transform_char(sample_1)"
      ],
      "metadata": {
        "id": "JKcJmE6kmahu",
        "trusted": true
      },
      "execution_count": 11,
      "outputs": []
    },
    {
      "cell_type": "markdown",
      "source": [
        "Code a function map_int_to_char(unic_chars) which returns the reverse mapping."
      ],
      "metadata": {
        "id": "GbrgQmRgyyhz"
      }
    },
    {
      "cell_type": "code",
      "source": [
        "def map_int_to_char(unic_chars):\n",
        "  range_ = np.arange(unic_chars.shape[0])\n",
        "  pairs = zip(range_, unic_chars)\n",
        "  return dict(pairs)\n",
        "\n",
        "int_to_char = map_int_to_char(list_unic)\n",
        "int_to_char"
      ],
      "metadata": {
        "id": "mX3883sYyyh0",
        "colab": {
          "base_uri": "https://localhost:8080/"
        },
        "outputId": "f8172c05-b748-4772-fb29-19d8be8ce146",
        "trusted": true
      },
      "execution_count": 12,
      "outputs": [
        {
          "output_type": "execute_result",
          "data": {
            "text/plain": [
              "{0: '\\n',\n",
              " 1: '#',\n",
              " 2: '(',\n",
              " 3: ')',\n",
              " 4: '+',\n",
              " 5: '-',\n",
              " 6: '/',\n",
              " 7: '1',\n",
              " 8: '2',\n",
              " 9: '3',\n",
              " 10: '4',\n",
              " 11: '5',\n",
              " 12: '6',\n",
              " 13: '7',\n",
              " 14: '8',\n",
              " 15: '=',\n",
              " 16: '@',\n",
              " 17: 'B',\n",
              " 18: 'C',\n",
              " 19: 'F',\n",
              " 20: 'H',\n",
              " 21: 'I',\n",
              " 22: 'N',\n",
              " 23: 'O',\n",
              " 24: 'P',\n",
              " 25: 'S',\n",
              " 26: '[',\n",
              " 27: '\\\\',\n",
              " 28: ']',\n",
              " 29: 'c',\n",
              " 30: 'l',\n",
              " 31: 'n',\n",
              " 32: 'o',\n",
              " 33: 'r',\n",
              " 34: 's'}"
            ]
          },
          "metadata": {},
          "execution_count": 12
        }
      ]
    },
    {
      "cell_type": "code",
      "source": [
        "def transform_int(arr):\n",
        "  return [int_to_char[i] for i in arr]\n",
        "\n",
        "print(sample_1)\n",
        "transform_int(ex_1)"
      ],
      "metadata": {
        "colab": {
          "base_uri": "https://localhost:8080/"
        },
        "id": "KEhY10aAnShC",
        "outputId": "55039017-029c-4bc8-ad6e-cc8d3e5005df",
        "trusted": true
      },
      "execution_count": 13,
      "outputs": [
        {
          "output_type": "stream",
          "name": "stdout",
          "text": [
            "CC(C)(C)c1ccc2occ(CC(=O)Nc3ccccc3F)c2c1\n",
            "\n"
          ]
        },
        {
          "output_type": "execute_result",
          "data": {
            "text/plain": [
              "['C',\n",
              " 'C',\n",
              " '(',\n",
              " 'C',\n",
              " ')',\n",
              " '(',\n",
              " 'C',\n",
              " ')',\n",
              " 'c',\n",
              " '1',\n",
              " 'c',\n",
              " 'c',\n",
              " 'c',\n",
              " '2',\n",
              " 'o',\n",
              " 'c',\n",
              " 'c',\n",
              " '(',\n",
              " 'C',\n",
              " 'C',\n",
              " '(',\n",
              " '=',\n",
              " 'O',\n",
              " ')',\n",
              " 'N',\n",
              " 'c',\n",
              " '3',\n",
              " 'c',\n",
              " 'c',\n",
              " 'c',\n",
              " 'c',\n",
              " 'c',\n",
              " '3',\n",
              " 'F',\n",
              " ')',\n",
              " 'c',\n",
              " '2',\n",
              " 'c',\n",
              " '1',\n",
              " '\\n']"
            ]
          },
          "metadata": {},
          "execution_count": 13
        }
      ]
    },
    {
      "cell_type": "markdown",
      "source": [
        "For each smile molecule add the ending token to it)"
      ],
      "metadata": {
        "id": "1etZs7T3yyh1"
      }
    },
    {
      "cell_type": "code",
      "source": [
        "df[~df['smiles'].str.endswith('\\n')]"
      ],
      "metadata": {
        "id": "hKC4TyuZyyh1",
        "colab": {
          "base_uri": "https://localhost:8080/",
          "height": 53
        },
        "outputId": "795226b4-94f0-4be3-c808-dd19a68634a4",
        "trusted": true
      },
      "execution_count": 14,
      "outputs": [
        {
          "output_type": "execute_result",
          "data": {
            "text/plain": [
              "Empty DataFrame\n",
              "Columns: [smiles, logP, qed, SAS]\n",
              "Index: []"
            ],
            "text/html": [
              "\n",
              "  <div id=\"df-486e6eb7-132c-4fbb-893f-304ccef5524f\" class=\"colab-df-container\">\n",
              "    <div>\n",
              "<style scoped>\n",
              "    .dataframe tbody tr th:only-of-type {\n",
              "        vertical-align: middle;\n",
              "    }\n",
              "\n",
              "    .dataframe tbody tr th {\n",
              "        vertical-align: top;\n",
              "    }\n",
              "\n",
              "    .dataframe thead th {\n",
              "        text-align: right;\n",
              "    }\n",
              "</style>\n",
              "<table border=\"1\" class=\"dataframe\">\n",
              "  <thead>\n",
              "    <tr style=\"text-align: right;\">\n",
              "      <th></th>\n",
              "      <th>smiles</th>\n",
              "      <th>logP</th>\n",
              "      <th>qed</th>\n",
              "      <th>SAS</th>\n",
              "    </tr>\n",
              "  </thead>\n",
              "  <tbody>\n",
              "  </tbody>\n",
              "</table>\n",
              "</div>\n",
              "    <div class=\"colab-df-buttons\">\n",
              "\n",
              "  <div class=\"colab-df-container\">\n",
              "    <button class=\"colab-df-convert\" onclick=\"convertToInteractive('df-486e6eb7-132c-4fbb-893f-304ccef5524f')\"\n",
              "            title=\"Convert this dataframe to an interactive table.\"\n",
              "            style=\"display:none;\">\n",
              "\n",
              "  <svg xmlns=\"http://www.w3.org/2000/svg\" height=\"24px\" viewBox=\"0 -960 960 960\">\n",
              "    <path d=\"M120-120v-720h720v720H120Zm60-500h600v-160H180v160Zm220 220h160v-160H400v160Zm0 220h160v-160H400v160ZM180-400h160v-160H180v160Zm440 0h160v-160H620v160ZM180-180h160v-160H180v160Zm440 0h160v-160H620v160Z\"/>\n",
              "  </svg>\n",
              "    </button>\n",
              "\n",
              "  <style>\n",
              "    .colab-df-container {\n",
              "      display:flex;\n",
              "      gap: 12px;\n",
              "    }\n",
              "\n",
              "    .colab-df-convert {\n",
              "      background-color: #E8F0FE;\n",
              "      border: none;\n",
              "      border-radius: 50%;\n",
              "      cursor: pointer;\n",
              "      display: none;\n",
              "      fill: #1967D2;\n",
              "      height: 32px;\n",
              "      padding: 0 0 0 0;\n",
              "      width: 32px;\n",
              "    }\n",
              "\n",
              "    .colab-df-convert:hover {\n",
              "      background-color: #E2EBFA;\n",
              "      box-shadow: 0px 1px 2px rgba(60, 64, 67, 0.3), 0px 1px 3px 1px rgba(60, 64, 67, 0.15);\n",
              "      fill: #174EA6;\n",
              "    }\n",
              "\n",
              "    .colab-df-buttons div {\n",
              "      margin-bottom: 4px;\n",
              "    }\n",
              "\n",
              "    [theme=dark] .colab-df-convert {\n",
              "      background-color: #3B4455;\n",
              "      fill: #D2E3FC;\n",
              "    }\n",
              "\n",
              "    [theme=dark] .colab-df-convert:hover {\n",
              "      background-color: #434B5C;\n",
              "      box-shadow: 0px 1px 3px 1px rgba(0, 0, 0, 0.15);\n",
              "      filter: drop-shadow(0px 1px 2px rgba(0, 0, 0, 0.3));\n",
              "      fill: #FFFFFF;\n",
              "    }\n",
              "  </style>\n",
              "\n",
              "    <script>\n",
              "      const buttonEl =\n",
              "        document.querySelector('#df-486e6eb7-132c-4fbb-893f-304ccef5524f button.colab-df-convert');\n",
              "      buttonEl.style.display =\n",
              "        google.colab.kernel.accessAllowed ? 'block' : 'none';\n",
              "\n",
              "      async function convertToInteractive(key) {\n",
              "        const element = document.querySelector('#df-486e6eb7-132c-4fbb-893f-304ccef5524f');\n",
              "        const dataTable =\n",
              "          await google.colab.kernel.invokeFunction('convertToInteractive',\n",
              "                                                    [key], {});\n",
              "        if (!dataTable) return;\n",
              "\n",
              "        const docLinkHtml = 'Like what you see? Visit the ' +\n",
              "          '<a target=\"_blank\" href=https://colab.research.google.com/notebooks/data_table.ipynb>data table notebook</a>'\n",
              "          + ' to learn more about interactive tables.';\n",
              "        element.innerHTML = '';\n",
              "        dataTable['output_type'] = 'display_data';\n",
              "        await google.colab.output.renderOutput(dataTable, element);\n",
              "        const docLink = document.createElement('div');\n",
              "        docLink.innerHTML = docLinkHtml;\n",
              "        element.appendChild(docLink);\n",
              "      }\n",
              "    </script>\n",
              "  </div>\n",
              "\n",
              "    </div>\n",
              "  </div>\n"
            ]
          },
          "metadata": {},
          "execution_count": 14
        }
      ]
    },
    {
      "cell_type": "code",
      "source": [
        "assert df['smiles'].str.endswith('\\n').shape[0] == df.shape[0]"
      ],
      "metadata": {
        "id": "zpSqPHtcJHWS",
        "trusted": true
      },
      "execution_count": 15,
      "outputs": []
    },
    {
      "cell_type": "markdown",
      "source": [
        "None smile doesn't end with '\\n'\n"
      ],
      "metadata": {
        "id": "HTak_xEhJDfo"
      }
    },
    {
      "cell_type": "markdown",
      "source": [
        "## Building the dataset\n",
        "\n",
        "Now we will create the dataset so that it has the good share for our Keras LSTM model\n",
        "\n",
        "Remember Keras recurrent models expect a 3D array with shapes (n_examples, seq_len, n_features)\n",
        "\n"
      ],
      "metadata": {
        "id": "QpuIn5z1yyh2"
      }
    },
    {
      "cell_type": "markdown",
      "source": [
        "What will be n_features in our case ?<br>\n",
        "n_features will be the number of unique characters that appear in the dataset"
      ],
      "metadata": {
        "id": "ldUup-_Qyyh2"
      }
    },
    {
      "cell_type": "markdown",
      "source": [
        "Code a function **build_X_and_y(string, i_char, seq_lenght)** which takes a string, a **seq_length** number and a position.\n",
        "\n",
        "\n",
        "It should create X by by getting all character between i and i + seq_length\n",
        "and create y by getting the character following the X sequence\n",
        "it returns X and y"
      ],
      "metadata": {
        "id": "Jwkwafxdyyh4"
      }
    },
    {
      "cell_type": "markdown",
      "source": [
        "Test your function on the following string \"\" with seq_length = 4 and i = [1, 2, 3]"
      ],
      "metadata": {
        "id": "PfRJ_Lpkyyh4"
      }
    },
    {
      "cell_type": "code",
      "source": [
        "def build_X_and_y(string, i_char, seq_length):\n",
        "  if (i_char + seq_length > len(string)):\n",
        "    return \"\", \"\"\n",
        "  X = string[i_char:i_char + seq_length]\n",
        "\n",
        "  if (i_char + seq_length + 1 > len(string)):\n",
        "    return X, \"\"\n",
        "\n",
        "  y = string[i_char + seq_length]\n",
        "  return X, y\n",
        "\n",
        "\n",
        "string = \"jambondenoel\"\n",
        "seq_length = 9\n",
        "i_char = 2\n",
        "build_X_and_y(string, i_char, seq_length)\n"
      ],
      "metadata": {
        "id": "ToDrNcT8yyh5",
        "colab": {
          "base_uri": "https://localhost:8080/"
        },
        "outputId": "496101ef-2012-43f3-cd80-0547b3beb046",
        "trusted": true
      },
      "execution_count": 16,
      "outputs": [
        {
          "output_type": "execute_result",
          "data": {
            "text/plain": [
              "('mbondenoe', 'l')"
            ]
          },
          "metadata": {},
          "execution_count": 16
        }
      ]
    },
    {
      "cell_type": "markdown",
      "source": [
        "By using build_X_and_y and map_char_to_int build a list nameed X_train and a list named y_train"
      ],
      "metadata": {
        "id": "y9DdyLSUyyh5"
      }
    },
    {
      "cell_type": "code",
      "source": [
        "samples = df[\"smiles\"]\n",
        "x_train = []\n",
        "y_train = []\n",
        "\n",
        "seq_length = 20\n",
        "for smile in samples:\n",
        "  for pos in range(0, len(smile) - seq_length):\n",
        "    x, y = build_X_and_y(smile, pos, seq_length)\n",
        "    x_train.append(transform_char(x))\n",
        "    y_train.append(transform_char(y))\n",
        "\n",
        "x_train[0], y_train[0]"
      ],
      "metadata": {
        "id": "xRb61XzXyyh6",
        "colab": {
          "base_uri": "https://localhost:8080/"
        },
        "outputId": "3bb5b122-d6b5-4fcd-ac6f-72e96291d69c",
        "trusted": true
      },
      "execution_count": 17,
      "outputs": [
        {
          "output_type": "execute_result",
          "data": {
            "text/plain": [
              "([18, 18, 2, 18, 3, 2, 18, 3, 29, 7, 29, 29, 29, 8, 32, 29, 29, 2, 18, 18],\n",
              " [2])"
            ]
          },
          "metadata": {},
          "execution_count": 17
        }
      ]
    },
    {
      "cell_type": "markdown",
      "source": [
        "Create numpy arrays from the lists"
      ],
      "metadata": {
        "id": "fubbPe7Vyyh6"
      }
    },
    {
      "cell_type": "code",
      "source": [
        "x_train = np.array(x_train)\n",
        "y_train = np.array(y_train)\n",
        "x_train.shape, y_train.shape"
      ],
      "metadata": {
        "id": "il1hbrsbyyh7",
        "colab": {
          "base_uri": "https://localhost:8080/"
        },
        "outputId": "fcb6dd12-ef38-4591-8fe7-70dbd26e592b",
        "trusted": true
      },
      "execution_count": 18,
      "outputs": [
        {
          "output_type": "execute_result",
          "data": {
            "text/plain": [
              "((6314835, 20), (6314835, 1))"
            ]
          },
          "metadata": {},
          "execution_count": 18
        }
      ]
    },
    {
      "cell_type": "markdown",
      "source": [
        "Reshape the X numpy array (n_examples, seq_lenght, 1)"
      ],
      "metadata": {
        "id": "Wb5Y3ERkyyh8"
      }
    },
    {
      "cell_type": "code",
      "source": [
        "n_examples = x_train.shape[0]\n",
        "x_train = x_train.reshape(n_examples, seq_length, 1)\n",
        "x_train.shape"
      ],
      "metadata": {
        "id": "T6mf5a4Dyyh8",
        "colab": {
          "base_uri": "https://localhost:8080/"
        },
        "outputId": "6abbcbe2-8417-4b19-b688-0325185c5d81",
        "trusted": true
      },
      "execution_count": 19,
      "outputs": [
        {
          "output_type": "execute_result",
          "data": {
            "text/plain": [
              "(6314835, 20, 1)"
            ]
          },
          "metadata": {},
          "execution_count": 19
        }
      ]
    },
    {
      "cell_type": "markdown",
      "source": [
        "Normalize X by dividing each values by the total number of unic characters"
      ],
      "metadata": {
        "id": "l7x4U0tCyyh9"
      }
    },
    {
      "cell_type": "code",
      "source": [
        "nb_unic = len(char_to_int)\n",
        "x_train = x_train / nb_unic\n",
        "x_train[0]"
      ],
      "metadata": {
        "id": "lHTjPnv4yyh9",
        "colab": {
          "base_uri": "https://localhost:8080/"
        },
        "outputId": "c2564b51-b657-4c11-fe44-2ebba0de870c",
        "trusted": true
      },
      "execution_count": 20,
      "outputs": [
        {
          "output_type": "execute_result",
          "data": {
            "text/plain": [
              "array([[0.51428571],\n",
              "       [0.51428571],\n",
              "       [0.05714286],\n",
              "       [0.51428571],\n",
              "       [0.08571429],\n",
              "       [0.05714286],\n",
              "       [0.51428571],\n",
              "       [0.08571429],\n",
              "       [0.82857143],\n",
              "       [0.2       ],\n",
              "       [0.82857143],\n",
              "       [0.82857143],\n",
              "       [0.82857143],\n",
              "       [0.22857143],\n",
              "       [0.91428571],\n",
              "       [0.82857143],\n",
              "       [0.82857143],\n",
              "       [0.05714286],\n",
              "       [0.51428571],\n",
              "       [0.51428571]])"
            ]
          },
          "metadata": {},
          "execution_count": 20
        }
      ]
    },
    {
      "cell_type": "markdown",
      "source": [
        "Import Keras and build (at least) a two layered LSTM network with 128 neurone in each.\n",
        "\n",
        "You can also add Dropoutlayers\n",
        "\n",
        "Do you think you should use the return_sequences = True ? If yes, when ?\n",
        "As the LSTM layer will return the full sequence to the next layer instead of just the final output, we should set return_sequences=True for all LSTM layers except the last one to predict several atoms\n",
        "\n",
        "Add a Dense layer on top with with the appropriate activation function and number of neurones\n"
      ],
      "metadata": {
        "id": "iWnIpi2uyyh9"
      }
    },
    {
      "cell_type": "code",
      "source": [
        "model = Sequential([\n",
        "    LSTM(128, input_shape=(seq_length, 1), return_sequences=True, dropout=0,\n",
        "         activation=\"tanh\", recurrent_activation=\"sigmoid\"),\n",
        "    #LSTM(128, return_sequences=True, dropout=0,\n",
        "    #     activation=\"tanh\", recurrent_activation=\"sigmoid\"),\n",
        "    LSTM(128,\n",
        "         activation=\"tanh\", recurrent_activation=\"sigmoid\"),\n",
        "    Dense(nb_unic, activation=\"softmax\")\n",
        "])"
      ],
      "metadata": {
        "id": "9a0Vz4L8yyiM",
        "trusted": true
      },
      "execution_count": 21,
      "outputs": []
    },
    {
      "cell_type": "markdown",
      "source": [
        "Compile the model with the appropriate loss function and the adam optimizer"
      ],
      "metadata": {
        "id": "q1cAV53EyyiN"
      }
    },
    {
      "cell_type": "code",
      "source": [
        "model.compile(loss=\"sparse_categorical_crossentropy\",\n",
        "              optimizer=tf.keras.optimizers.Adam(learning_rate=0.001),\n",
        "              metrics=\"accuracy\")\n",
        "model.summary()"
      ],
      "metadata": {
        "id": "6q2XpZQ4yyiO",
        "colab": {
          "base_uri": "https://localhost:8080/"
        },
        "outputId": "6dff9e1a-acf7-48ed-bda2-d3c077aad3f8",
        "trusted": true
      },
      "execution_count": 22,
      "outputs": [
        {
          "output_type": "stream",
          "name": "stdout",
          "text": [
            "Model: \"sequential\"\n",
            "_________________________________________________________________\n",
            " Layer (type)                Output Shape              Param #   \n",
            "=================================================================\n",
            " lstm (LSTM)                 (None, 20, 128)           66560     \n",
            "                                                                 \n",
            " lstm_1 (LSTM)               (None, 128)               131584    \n",
            "                                                                 \n",
            " dense (Dense)               (None, 35)                4515      \n",
            "                                                                 \n",
            "=================================================================\n",
            "Total params: 202659 (791.64 KB)\n",
            "Trainable params: 202659 (791.64 KB)\n",
            "Non-trainable params: 0 (0.00 Byte)\n",
            "_________________________________________________________________\n"
          ]
        }
      ]
    },
    {
      "cell_type": "markdown",
      "source": [
        "Train the model on 20 epochs and 10 examples (yeah you read correctly) and check that the model overfits !"
      ],
      "metadata": {
        "id": "ZIq8gdLyyyiP"
      }
    },
    {
      "cell_type": "code",
      "source": [
        "y_train_one_hot = tf.keras.utils.to_categorical(y_train)\n",
        "history = model.fit(x=x_train[:10],\n",
        "                    y=y_train[:10],\n",
        "                    epochs=20,\n",
        "                    validation_split=0.2)"
      ],
      "metadata": {
        "id": "7Qm3jXR7yyiP",
        "colab": {
          "base_uri": "https://localhost:8080/"
        },
        "outputId": "cdaf3e7f-67ec-430f-ab93-667ed5b89e53",
        "trusted": true
      },
      "execution_count": 23,
      "outputs": [
        {
          "output_type": "stream",
          "name": "stdout",
          "text": [
            "Epoch 1/20\n",
            "1/1 [==============================] - 10s 10s/step - loss: 3.5668 - accuracy: 0.0000e+00 - val_loss: 3.4767 - val_accuracy: 1.0000\n",
            "Epoch 2/20\n",
            "1/1 [==============================] - 0s 59ms/step - loss: 3.5210 - accuracy: 0.2500 - val_loss: 3.3863 - val_accuracy: 1.0000\n",
            "Epoch 3/20\n",
            "1/1 [==============================] - 0s 46ms/step - loss: 3.4725 - accuracy: 0.2500 - val_loss: 3.2725 - val_accuracy: 1.0000\n",
            "Epoch 4/20\n",
            "1/1 [==============================] - 0s 50ms/step - loss: 3.4121 - accuracy: 0.2500 - val_loss: 3.1150 - val_accuracy: 1.0000\n",
            "Epoch 5/20\n",
            "1/1 [==============================] - 0s 41ms/step - loss: 3.3298 - accuracy: 0.2500 - val_loss: 2.8827 - val_accuracy: 1.0000\n",
            "Epoch 6/20\n",
            "1/1 [==============================] - 0s 64ms/step - loss: 3.2111 - accuracy: 0.2500 - val_loss: 2.5321 - val_accuracy: 1.0000\n",
            "Epoch 7/20\n",
            "1/1 [==============================] - 0s 44ms/step - loss: 3.0375 - accuracy: 0.2500 - val_loss: 2.0286 - val_accuracy: 1.0000\n",
            "Epoch 8/20\n",
            "1/1 [==============================] - 0s 41ms/step - loss: 2.7976 - accuracy: 0.2500 - val_loss: 1.4289 - val_accuracy: 1.0000\n",
            "Epoch 9/20\n",
            "1/1 [==============================] - 0s 40ms/step - loss: 2.5259 - accuracy: 0.2500 - val_loss: 0.9493 - val_accuracy: 1.0000\n",
            "Epoch 10/20\n",
            "1/1 [==============================] - 0s 63ms/step - loss: 2.3346 - accuracy: 0.2500 - val_loss: 0.7913 - val_accuracy: 1.0000\n",
            "Epoch 11/20\n",
            "1/1 [==============================] - 0s 43ms/step - loss: 2.2387 - accuracy: 0.2500 - val_loss: 0.8346 - val_accuracy: 1.0000\n",
            "Epoch 12/20\n",
            "1/1 [==============================] - 0s 43ms/step - loss: 2.1525 - accuracy: 0.2500 - val_loss: 0.9780 - val_accuracy: 1.0000\n",
            "Epoch 13/20\n",
            "1/1 [==============================] - 0s 41ms/step - loss: 2.0677 - accuracy: 0.2500 - val_loss: 1.1885 - val_accuracy: 1.0000\n",
            "Epoch 14/20\n",
            "1/1 [==============================] - 0s 40ms/step - loss: 2.0026 - accuracy: 0.2500 - val_loss: 1.4374 - val_accuracy: 1.0000\n",
            "Epoch 15/20\n",
            "1/1 [==============================] - 0s 64ms/step - loss: 1.9704 - accuracy: 0.2500 - val_loss: 1.6608 - val_accuracy: 1.0000\n",
            "Epoch 16/20\n",
            "1/1 [==============================] - 0s 57ms/step - loss: 1.9669 - accuracy: 0.2500 - val_loss: 1.7904 - val_accuracy: 1.0000\n",
            "Epoch 17/20\n",
            "1/1 [==============================] - 0s 42ms/step - loss: 1.9705 - accuracy: 0.2500 - val_loss: 1.8171 - val_accuracy: 1.0000\n",
            "Epoch 18/20\n",
            "1/1 [==============================] - 0s 40ms/step - loss: 1.9668 - accuracy: 0.2500 - val_loss: 1.7650 - val_accuracy: 1.0000\n",
            "Epoch 19/20\n",
            "1/1 [==============================] - 0s 56ms/step - loss: 1.9549 - accuracy: 0.2500 - val_loss: 1.6633 - val_accuracy: 1.0000\n",
            "Epoch 20/20\n",
            "1/1 [==============================] - 0s 58ms/step - loss: 1.9400 - accuracy: 0.2500 - val_loss: 1.5390 - val_accuracy: 1.0000\n"
          ]
        }
      ]
    },
    {
      "cell_type": "code",
      "source": [
        "loss = history.history['loss']\n",
        "val_loss = history.history['val_loss']\n",
        "epochs = range(1, len(loss) + 1)\n",
        "\n",
        "plt.plot(epochs, loss, label='Training loss')\n",
        "plt.plot(epochs, val_loss, label='Validation loss')\n",
        "plt.title('Training and validation loss')\n",
        "plt.xlabel('Epochs')\n",
        "plt.ylabel('Loss')\n",
        "plt.legend()\n"
      ],
      "metadata": {
        "colab": {
          "base_uri": "https://localhost:8080/",
          "height": 490
        },
        "id": "l-h2NTtf4h3F",
        "outputId": "4303b393-a49b-42d1-941d-1dfda6f6e805",
        "trusted": true
      },
      "execution_count": 24,
      "outputs": [
        {
          "output_type": "execute_result",
          "data": {
            "text/plain": [
              "<matplotlib.legend.Legend at 0x7e0415ddef80>"
            ]
          },
          "metadata": {},
          "execution_count": 24
        },
        {
          "output_type": "display_data",
          "data": {
            "text/plain": [
              "<Figure size 640x480 with 1 Axes>"
            ],
            "image/png": "[encoded data removed]"
          },
          "metadata": {}
        }
      ]
    },
    {
      "cell_type": "code",
      "source": [
        "test_loss, test_accuracy = model.evaluate(x_train[20:2000], y_train[20:2000])\n",
        "\n",
        "print(f\"Accuracy on train : {history.history['accuracy'][-1]}\")\n",
        "print(f\"Accuracy on test (other train data) : {test_accuracy}\")"
      ],
      "metadata": {
        "colab": {
          "base_uri": "https://localhost:8080/"
        },
        "id": "IzTGYJK7u1Ks",
        "outputId": "edba72d7-6785-4f60-eb0a-635ebbbd969b",
        "trusted": true
      },
      "execution_count": 25,
      "outputs": [
        {
          "output_type": "stream",
          "name": "stdout",
          "text": [
            "62/62 [==============================] - 0s 5ms/step - loss: 5.0333 - accuracy: 0.2061\n",
            "Accuracy on train : 0.25\n",
            "Accuracy on test (other train data) : 0.20606060326099396\n"
          ]
        }
      ]
    },
    {
      "cell_type": "markdown",
      "source": [
        "If it does not overfit try to fix data prep and model architecture so it does"
      ],
      "metadata": {
        "id": "altB1J4xyyiQ"
      }
    },
    {
      "cell_type": "markdown",
      "source": [
        "Create a function **make_prediction(seed_start)** which takes a starting string sequence and uses it to generate a molecule\n"
      ],
      "metadata": {
        "id": "BMCFxz-wyyiR"
      }
    },
    {
      "cell_type": "code",
      "source": [
        "def make_inputs(string):\n",
        "  len_ = len(string)\n",
        "  inputs = np.array(transform_char(string), dtype=\"float\").reshape(1, len_, 1)\n",
        "  inputs /=  model.output_shape[1]\n",
        "  return inputs\n",
        "\n",
        "make_inputs(df['smiles'][1][:3])"
      ],
      "metadata": {
        "colab": {
          "base_uri": "https://localhost:8080/"
        },
        "id": "DxDLVej70ngx",
        "outputId": "15358a8b-8a01-4be4-a5fd-4f8c5c49d04c",
        "trusted": true
      },
      "execution_count": 26,
      "outputs": [
        {
          "output_type": "execute_result",
          "data": {
            "text/plain": [
              "array([[[0.51428571],\n",
              "        [0.74285714],\n",
              "        [0.51428571]]])"
            ]
          },
          "metadata": {},
          "execution_count": 26
        }
      ]
    },
    {
      "cell_type": "code",
      "source": [
        "def make_prediction(seed_start, model, max_len=20):\n",
        "    mol = seed_start\n",
        "\n",
        "    i = 0\n",
        "    while(True):\n",
        "        token_int = [np.argmax(model.predict(make_inputs(mol), verbose=0))]\n",
        "        token = transform_int(token_int)[0]\n",
        "        mol += token\n",
        "\n",
        "        if (token == '\\n' or i > max_len):\n",
        "            break\n",
        "        i += 1\n",
        "\n",
        "    return mol"
      ],
      "metadata": {
        "id": "ulAAk9plyyiS",
        "trusted": true
      },
      "execution_count": 27,
      "outputs": []
    },
    {
      "cell_type": "markdown",
      "source": [
        "generate a molecule of your overfitted model"
      ],
      "metadata": {
        "id": "cHb0mnp5yyiS"
      }
    },
    {
      "cell_type": "code",
      "source": [
        "make_prediction(df['smiles'][1][:seq_length], model)"
      ],
      "metadata": {
        "colab": {
          "base_uri": "https://localhost:8080/",
          "height": 35
        },
        "id": "Y9Rarmjsy0kd",
        "outputId": "06d61937-7be9-4c03-9f59-221640b50e1b",
        "trusted": true
      },
      "execution_count": 28,
      "outputs": [
        {
          "output_type": "execute_result",
          "data": {
            "text/plain": [
              "'C[C@@H]1CC(Nc2cncc(-cccccccccccccccccccccc'"
            ],
            "application/vnd.google.colaboratory.intrinsic+json": {
              "type": "string"
            }
          },
          "metadata": {},
          "execution_count": 28
        }
      ]
    },
    {
      "cell_type": "markdown",
      "source": [
        "Make a model checkpoint so that the model is saved after each epoch\n",
        "if you train on a plateform and it stops you do not lose your training"
      ],
      "metadata": {
        "id": "AyZcbVC4yyiU"
      }
    },
    {
      "cell_type": "code",
      "source": [
        "model_checkpoint_callback = tf.keras.callbacks.ModelCheckpoint(\n",
        "    filepath='.',\n",
        "    monitor='val_accuracy',\n",
        "    save_best_only=False)\n",
        "\n",
        "reduce_lr = ReduceLROnPlateau(monitor='val_loss',\n",
        "                              factor=0.05,\n",
        "                              patience=2,\n",
        "                              verbose=1,\n",
        "                              min_delta=0.0001)\n",
        "early_stop = EarlyStopping(monitor='val_loss',\n",
        "                           patience=3,\n",
        "                           verbose=1,\n",
        "                           restore_best_weights=True)"
      ],
      "metadata": {
        "id": "hhOqrs9NyyiV",
        "trusted": true
      },
      "execution_count": 29,
      "outputs": []
    },
    {
      "cell_type": "markdown",
      "source": [
        "Now go to your favorite plateform (colab or something else) and train the dataset on the whole data for 10 epochs and batch size 256\n",
        "\n",
        "it should take a long time so either follow the class or go take a nap"
      ],
      "metadata": {
        "id": "chEa4hmZyyiV"
      }
    },
    {
      "cell_type": "code",
      "source": [
        "strategy = tf.distribute.MirroredStrategy()\n",
        "\n",
        "with strategy.scope():\n",
        "  model2 = Sequential([\n",
        "      LSTM(128, input_shape=(seq_length, 1), return_sequences=True, dropout=0.1,\n",
        "            recurrent_dropout=0.1, activation=\"tanh\", recurrent_activation=\"sigmoid\"),\n",
        "      BatchNormalization(),\n",
        "      #LSTM(128, return_sequences=True, dropout=0.1, recurrent_dropout=0.1,\n",
        "      #    activation=\"tanh\", recurrent_activation=\"sigmoid\"),\n",
        "      #BatchNormalization(),\n",
        "      LSTM(128, dropout=0.1, recurrent_dropout=0.1,\n",
        "            activation=\"tanh\", recurrent_activation=\"sigmoid\"),\n",
        "      BatchNormalization(),\n",
        "      Dense(nb_unic, activation=\"softmax\")\n",
        "  ])\n",
        "\n",
        "  model2.compile(loss=\"categorical_crossentropy\",\n",
        "                optimizer=tf.keras.optimizers.Adam(learning_rate=0.001),\n",
        "                metrics=\"accuracy\")\n",
        "  history = model2.fit(x=x_train[:100000],\n",
        "                      y=y_train_one_hot[:100000],\n",
        "                      epochs=10,\n",
        "                      validation_split=0.1,\n",
        "                      batch_size=256,\n",
        "                      callbacks=[model_checkpoint_callback,\n",
        "                                reduce_lr])"
      ],
      "metadata": {
        "id": "-iyk8BvZyyiW",
        "colab": {
          "base_uri": "https://localhost:8080/"
        },
        "outputId": "3554045e-5b5a-47d9-ce09-f5fada135a7e",
        "trusted": true
      },
      "execution_count": 30,
      "outputs": [
        {
          "output_type": "stream",
          "name": "stderr",
          "text": [
            "WARNING:tensorflow:Layer lstm_2 will not use cuDNN kernels since it doesn't meet the criteria. It will use a generic GPU kernel as fallback when running on GPU.\n",
            "WARNING:tensorflow:Layer lstm_3 will not use cuDNN kernels since it doesn't meet the criteria. It will use a generic GPU kernel as fallback when running on GPU.\n"
          ]
        },
        {
          "output_type": "stream",
          "name": "stdout",
          "text": [
            "Epoch 1/10\n",
            "352/352 [==============================] - 78s 203ms/step - loss: 2.4932 - accuracy: 0.3014 - val_loss: 3.2117 - val_accuracy: 0.1536 - lr: 0.0010\n",
            "Epoch 2/10\n",
            "352/352 [==============================] - 69s 197ms/step - loss: 1.7804 - accuracy: 0.4474 - val_loss: 2.7541 - val_accuracy: 0.2041 - lr: 0.0010\n",
            "Epoch 3/10\n",
            "352/352 [==============================] - 68s 194ms/step - loss: 1.5842 - accuracy: 0.4955 - val_loss: 1.8198 - val_accuracy: 0.4143 - lr: 0.0010\n",
            "Epoch 4/10\n",
            "352/352 [==============================] - 67s 191ms/step - loss: 1.4808 - accuracy: 0.5232 - val_loss: 1.9518 - val_accuracy: 0.3966 - lr: 0.0010\n",
            "Epoch 5/10\n",
            "352/352 [==============================] - 67s 191ms/step - loss: 1.4114 - accuracy: 0.5425 - val_loss: 1.6405 - val_accuracy: 0.4715 - lr: 0.0010\n",
            "Epoch 6/10\n",
            "352/352 [==============================] - 67s 192ms/step - loss: 1.3541 - accuracy: 0.5599 - val_loss: 1.9078 - val_accuracy: 0.4107 - lr: 0.0010\n",
            "Epoch 7/10\n",
            "352/352 [==============================] - ETA: 0s - loss: 1.3084 - accuracy: 0.5721\n",
            "Epoch 7: ReduceLROnPlateau reducing learning rate to 5.0000002374872565e-05.\n",
            "352/352 [==============================] - 68s 192ms/step - loss: 1.3084 - accuracy: 0.5721 - val_loss: 2.1143 - val_accuracy: 0.3560 - lr: 0.0010\n",
            "Epoch 8/10\n",
            "352/352 [==============================] - 67s 190ms/step - loss: 1.2617 - accuracy: 0.5848 - val_loss: 2.2228 - val_accuracy: 0.3343 - lr: 5.0000e-05\n",
            "Epoch 9/10\n",
            "352/352 [==============================] - ETA: 0s - loss: 1.2510 - accuracy: 0.5896\n",
            "Epoch 9: ReduceLROnPlateau reducing learning rate to 2.5000001187436284e-06.\n",
            "352/352 [==============================] - 67s 189ms/step - loss: 1.2510 - accuracy: 0.5896 - val_loss: 2.1947 - val_accuracy: 0.3403 - lr: 5.0000e-05\n",
            "Epoch 10/10\n",
            "352/352 [==============================] - 67s 190ms/step - loss: 1.2476 - accuracy: 0.5903 - val_loss: 2.2382 - val_accuracy: 0.3319 - lr: 2.5000e-06\n"
          ]
        }
      ]
    },
    {
      "cell_type": "code",
      "source": [
        "loss = history.history['loss']\n",
        "val_loss = history.history['val_loss']\n",
        "epochs = range(1, len(loss) + 1)\n",
        "\n",
        "plt.plot(epochs, loss, label='Training loss')\n",
        "plt.plot(epochs, val_loss, label='Validation loss')\n",
        "plt.title('Training and validation loss')\n",
        "plt.xlabel('Epochs')\n",
        "plt.ylabel('Loss')\n",
        "plt.legend()\n"
      ],
      "metadata": {
        "trusted": true,
        "colab": {
          "base_uri": "https://localhost:8080/",
          "height": 490
        },
        "id": "QEGd9LqZ_5ep",
        "outputId": "44f21b84-b4e9-425f-be18-4567ef77e867"
      },
      "execution_count": 36,
      "outputs": [
        {
          "output_type": "execute_result",
          "data": {
            "text/plain": [
              "<matplotlib.legend.Legend at 0x7e046cb51f60>"
            ]
          },
          "metadata": {},
          "execution_count": 36
        },
        {
          "output_type": "display_data",
          "data": {
            "text/plain": [
              "<Figure size 640x480 with 1 Axes>"
            ],
            "image/png": "[encoded data removed]"
          },
          "metadata": {}
        }
      ]
    },
    {
      "cell_type": "code",
      "source": [
        "y_pred = np.argmax(model2.predict(x_train[:1000], verbose=0), axis=1)\n",
        "y_true = y_train[:1000]\n",
        "\n",
        "cm = confusion_matrix(y_true, y_pred)\n",
        "\n",
        "plt.figure(figsize=(10,7))\n",
        "sns.heatmap(cm, annot=True, fmt='g')\n",
        "plt.title(\"Heatmap for Train\")\n",
        "plt.xlabel('Predicted')\n",
        "plt.ylabel('Truth')\n",
        "plt.show()\n",
        "\n"
      ],
      "metadata": {
        "trusted": true,
        "colab": {
          "base_uri": "https://localhost:8080/",
          "height": 641
        },
        "id": "f97m_Yh0_5eq",
        "outputId": "0396993e-7dc1-4b42-de15-12373959e06d"
      },
      "execution_count": 37,
      "outputs": [
        {
          "output_type": "display_data",
          "data": {
            "text/plain": [
              "<Figure size 1000x700 with 2 Axes>"
            ],
            "image/png": "[encoded data removed]"
          },
          "metadata": {}
        }
      ]
    },
    {
      "cell_type": "code",
      "source": [
        "model2.save('/kaggle/working/model.h5')"
      ],
      "metadata": {
        "trusted": true,
        "colab": {
          "base_uri": "https://localhost:8080/"
        },
        "id": "WUx6p5xX_5eq",
        "outputId": "73f5fec5-896e-49de-efce-303e9137b316"
      },
      "execution_count": 33,
      "outputs": [
        {
          "output_type": "stream",
          "name": "stderr",
          "text": [
            "/usr/local/lib/python3.10/dist-packages/keras/src/engine/training.py:3000: UserWarning: You are saving your model as an HDF5 file via `model.save()`. This file format is considered legacy. We recommend using instead the native Keras format, e.g. `model.save('my_model.keras')`.\n",
            "  saving_api.save_model(\n"
          ]
        }
      ]
    },
    {
      "cell_type": "markdown",
      "source": [
        "Generate between 100 and 1000 molecules.\n",
        "\n",
        "create a list where molecules have between 10 and 50 atoms"
      ],
      "metadata": {
        "id": "QGzxqv3hyyiX"
      }
    },
    {
      "cell_type": "code",
      "source": [
        "%%time\n",
        "from tqdm import tqdm\n",
        "base_molecules = [item[:20] for item in df['smiles'][:50]]\n",
        "#predictions = tqdm(list(map(lambda x : make_prediction(x, model2, 50), base_molecules)))\n",
        "predictions = [make_prediction(base_molecules[i], model2, 50) for i in tqdm(range(50))]\n",
        "#filtered_predictions = [mol for mol in predictions if 10 <= len(mol) <= 50]"
      ],
      "metadata": {
        "id": "9E9fhvHQyyiY",
        "trusted": true,
        "colab": {
          "base_uri": "https://localhost:8080/"
        },
        "outputId": "d9ed9782-2f93-4dfa-b56c-140d38bfd14e"
      },
      "execution_count": 48,
      "outputs": [
        {
          "output_type": "stream",
          "name": "stderr",
          "text": [
            "100%|██████████| 50/50 [05:53<00:00,  7.07s/it]"
          ]
        },
        {
          "output_type": "stream",
          "name": "stdout",
          "text": [
            "CPU times: user 5min 48s, sys: 11.2 s, total: 5min 59s\n",
            "Wall time: 5min 53s\n"
          ]
        },
        {
          "output_type": "stream",
          "name": "stderr",
          "text": [
            "\n"
          ]
        }
      ]
    },
    {
      "cell_type": "code",
      "source": [
        "!pip install rdkit\n",
        "from rdkit import Chem\n",
        "from rdkit.Chem import QED\n",
        "\n",
        "\n",
        "real_mol = [Chem.MolFromSmiles(mol) for mol in tqdm(predictions) if mol is not None]\n",
        "real_mol"
      ],
      "metadata": {
        "colab": {
          "base_uri": "https://localhost:8080/"
        },
        "id": "NuuCHsw2Sg8b",
        "outputId": "1ab79fc7-6db3-4257-a91a-a4673323f739"
      },
      "execution_count": 49,
      "outputs": [
        {
          "output_type": "stream",
          "name": "stdout",
          "text": [
            "Requirement already satisfied: rdkit in /usr/local/lib/python3.10/dist-packages (2023.3.3)\n",
            "Requirement already satisfied: numpy in /usr/local/lib/python3.10/dist-packages (from rdkit) (1.23.5)\n",
            "Requirement already satisfied: Pillow in /usr/local/lib/python3.10/dist-packages (from rdkit) (9.4.0)\n"
          ]
        },
        {
          "output_type": "stream",
          "name": "stderr",
          "text": [
            "  0%|          | 0/50 [00:00<?, ?it/s][18:35:26] SMILES Parse Error: syntax error while parsing: CC(C)(C)c1ccc2occ(CCr)cO-])=O)[CC@H]C@@H](CO)(=O)NcC@@H](CO)CO)CO)CO)CO)\n",
            "[18:35:26] SMILES Parse Error: Failed parsing SMILES 'CC(C)(C)c1ccc2occ(CCr)cO-])=O)[CC@H]C@@H](CO)(=O)NcC@@H](CO)CO)CO)CO)CO)' for input: 'CC(C)(C)c1ccc2occ(CCr)cO-])=O)[CC@H]C@@H](CO)(=O)NcC@@H](CO)CO)CO)CO)CO)'\n",
            "[18:35:26] SMILES Parse Error: syntax error while parsing: C[C@@H]1CC(Nc2cncc(-cC@@H](CO)CO)CO)CO)CO)CO)CO)CO)CO)CO)CO)CO)CO)CO)CO)\n",
            "[18:35:26] SMILES Parse Error: Failed parsing SMILES 'C[C@@H]1CC(Nc2cncc(-cC@@H](CO)CO)CO)CO)CO)CO)CO)CO)CO)CO)CO)CO)CO)CO)CO)' for input: 'C[C@@H]1CC(Nc2cncc(-cC@@H](CO)CO)CO)CO)CO)CO)CO)CO)CO)CO)CO)CO)CO)CO)CO)'\n",
            "[18:35:26] SMILES Parse Error: syntax error while parsing: N#Cc1ccc(-c2ccc(O[C@O](CO)(=O)NcC@@H](CO)CO)CO)CO)CO)CO)CO)CO)CO)CO)CO)C\n",
            "[18:35:26] SMILES Parse Error: Failed parsing SMILES 'N#Cc1ccc(-c2ccc(O[C@O](CO)(=O)NcC@@H](CO)CO)CO)CO)CO)CO)CO)CO)CO)CO)CO)C' for input: 'N#Cc1ccc(-c2ccc(O[C@O](CO)(=O)NcC@@H](CO)CO)CO)CO)CO)CO)CO)CO)CO)CO)CO)C'\n",
            "[18:35:26] SMILES Parse Error: extra close parentheses while parsing: CCOC(=O)[C@@H]1CCCN(CO)CO)CO)CO)CO)CO)CO)CO)CO)CO)CO)CO)CO)CO)CO)CO)CO)C\n",
            "[18:35:26] SMILES Parse Error: Failed parsing SMILES 'CCOC(=O)[C@@H]1CCCN(CO)CO)CO)CO)CO)CO)CO)CO)CO)CO)CO)CO)CO)CO)CO)CO)CO)C' for input: 'CCOC(=O)[C@@H]1CCCN(CO)CO)CO)CO)CO)CO)CO)CO)CO)CO)CO)CO)CO)CO)CO)CO)CO)C'\n",
            "[18:35:26] SMILES Parse Error: syntax error while parsing: N#CC1=C(SCC(=O)Nc2cccncnc2=O)cC@H](CO)CO)CO)CO)CO)CO)CO)CO)CO)CO)CO)CO)C\n",
            "[18:35:26] SMILES Parse Error: Failed parsing SMILES 'N#CC1=C(SCC(=O)Nc2cccncnc2=O)cC@H](CO)CO)CO)CO)CO)CO)CO)CO)CO)CO)CO)CO)C' for input: 'N#CC1=C(SCC(=O)Nc2cccncnc2=O)cC@H](CO)CO)CO)CO)CO)CO)CO)CO)CO)CO)CO)CO)C'\n",
            "[18:35:26] SMILES Parse Error: extra close parentheses while parsing: CC[NH+](CC)[C@](C)(CO)CO)CO)CO)CO)CO)CO)CO)CO)CO)CO)CO)CO)CO)CO)CO)CO)CO\n",
            "[18:35:26] SMILES Parse Error: Failed parsing SMILES 'CC[NH+](CC)[C@](C)(CO)CO)CO)CO)CO)CO)CO)CO)CO)CO)CO)CO)CO)CO)CO)CO)CO)CO' for input: 'CC[NH+](CC)[C@](C)(CO)CO)CO)CO)CO)CO)CO)CO)CO)CO)CO)CO)CO)CO)CO)CO)CO)CO'\n",
            "[18:35:26] SMILES Parse Error: syntax error while parsing: COc1ccc(C(=O)N(C)[C@@H]C@@H](CO)(=O)NcC@@H](CO)CO)CO)CO)CO)CO)CO)CO)CO)C\n",
            "[18:35:26] SMILES Parse Error: Failed parsing SMILES 'COc1ccc(C(=O)N(C)[C@@H]C@@H](CO)(=O)NcC@@H](CO)CO)CO)CO)CO)CO)CO)CO)CO)C' for input: 'COc1ccc(C(=O)N(C)[C@@H]C@@H](CO)(=O)NcC@@H](CO)CO)CO)CO)CO)CO)CO)CO)CO)C'\n",
            "[18:35:26] SMILES Parse Error: syntax error while parsing: Cc1c(/C=N/c2cc(Br)ccnH]c@@@H](CO)CO)CO)CO)CO)CO)CO)CO)CO)CO)CO)CO)CO)CO)\n",
            "[18:35:26] SMILES Parse Error: Failed parsing SMILES 'Cc1c(/C=N/c2cc(Br)ccnH]c@@@H](CO)CO)CO)CO)CO)CO)CO)CO)CO)CO)CO)CO)CO)CO)' for input: 'Cc1c(/C=N/c2cc(Br)ccnH]c@@@H](CO)CO)CO)CO)CO)CO)CO)CO)CO)CO)CO)CO)CO)CO)'\n",
            "[18:35:26] SMILES Parse Error: syntax error while parsing: C[C@@H]1CN(C(=O)c2cccncnc2)cC@H](CO)CO)CO)CO)CO)CO)CO)CO)CO)CO)CO)CO)CO)\n",
            "[18:35:26] SMILES Parse Error: Failed parsing SMILES 'C[C@@H]1CN(C(=O)c2cccncnc2)cC@H](CO)CO)CO)CO)CO)CO)CO)CO)CO)CO)CO)CO)CO)' for input: 'C[C@@H]1CN(C(=O)c2cccncnc2)cC@H](CO)CO)CO)CO)CO)CO)CO)CO)CO)CO)CO)CO)CO)'\n",
            "[18:35:26] SMILES Parse Error: syntax error while parsing: CCOc1ccc(OCC)c([C@H]C@@H](CO)(=O)NcC@@H](CO)CO)CO)CO)CO)CO)CO)CO)CO)CO)C\n",
            "[18:35:26] SMILES Parse Error: Failed parsing SMILES 'CCOc1ccc(OCC)c([C@H]C@@H](CO)(=O)NcC@@H](CO)CO)CO)CO)CO)CO)CO)CO)CO)CO)C' for input: 'CCOc1ccc(OCC)c([C@H]C@@H](CO)(=O)NcC@@H](CO)CO)CO)CO)CO)CO)CO)CO)CO)CO)C'\n",
            "[18:35:26] SMILES Parse Error: extra close parentheses while parsing: Cc1ccc2nc(S[C@H](C)CO)N(CO)CO)CO)CO)CO)CO)CO)CO)CO)CO)CO)CO)CO)CO)CO)CO)\n",
            "[18:35:26] SMILES Parse Error: Failed parsing SMILES 'Cc1ccc2nc(S[C@H](C)CO)N(CO)CO)CO)CO)CO)CO)CO)CO)CO)CO)CO)CO)CO)CO)CO)CO)' for input: 'Cc1ccc2nc(S[C@H](C)CO)N(CO)CO)CO)CO)CO)CO)CO)CO)CO)CO)CO)CO)CO)CO)CO)CO)'\n",
            "[18:35:26] SMILES Parse Error: syntax error while parsing: O=C(N1CCc2c(F)ccc(F)]C@H](CO)CO)CO)CO)CO)CO)CO)CO)CO)CO)CO)CO)CO)CO)CO)C\n",
            "[18:35:26] SMILES Parse Error: Failed parsing SMILES 'O=C(N1CCc2c(F)ccc(F)]C@H](CO)CO)CO)CO)CO)CO)CO)CO)CO)CO)CO)CO)CO)CO)CO)C' for input: 'O=C(N1CCc2c(F)ccc(F)]C@H](CO)CO)CO)CO)CO)CO)CO)CO)CO)CO)CO)CO)CO)CO)CO)C'\n",
            "[18:35:26] SMILES Parse Error: syntax error while parsing: Cc1ccccc1C(=O)N1CCC2CCCCH]C@@H](CO)(=O)NcC@@H](CO)CO)CO)CO)CO)CO)CO)CO)C\n",
            "[18:35:26] SMILES Parse Error: Failed parsing SMILES 'Cc1ccccc1C(=O)N1CCC2CCCCH]C@@H](CO)(=O)NcC@@H](CO)CO)CO)CO)CO)CO)CO)CO)C' for input: 'Cc1ccccc1C(=O)N1CCC2CCCCH]C@@H](CO)(=O)NcC@@H](CO)CO)CO)CO)CO)CO)CO)CO)C'\n",
            "[18:35:26] SMILES Parse Error: syntax error while parsing: CCCc1cc(NC(=O)CN2C(=O)NcC@H](CO)CO)CO)CO)CO)CO)CO)CO)CO)CO)CO)CO)CO)CO)C\n",
            "[18:35:26] SMILES Parse Error: Failed parsing SMILES 'CCCc1cc(NC(=O)CN2C(=O)NcC@H](CO)CO)CO)CO)CO)CO)CO)CO)CO)CO)CO)CO)CO)CO)C' for input: 'CCCc1cc(NC(=O)CN2C(=O)NcC@H](CO)CO)CO)CO)CO)CO)CO)CO)CO)CO)CO)CO)CO)CO)C'\n",
            "[18:35:26] SMILES Parse Error: syntax error while parsing: CC(C)Cc1nc(SCC(=O)NCCCH]C@@H](CO)(=O)NcC@@H](CO)CO)CO)CO)CO)CO)CO)CO)CO)\n",
            "[18:35:26] SMILES Parse Error: Failed parsing SMILES 'CC(C)Cc1nc(SCC(=O)NCCCH]C@@H](CO)(=O)NcC@@H](CO)CO)CO)CO)CO)CO)CO)CO)CO)' for input: 'CC(C)Cc1nc(SCC(=O)NCCCH]C@@H](CO)(=O)NcC@@H](CO)CO)CO)CO)CO)CO)CO)CO)CO)'\n",
            "[18:35:26] SMILES Parse Error: syntax error while parsing: Cc1ccc(CNC(=O)c2ccccncn2)cC@H](CO)CO)CO)CO)CO)CO)CO)CO)CO)CO)CO)CO)CO)CO\n",
            "[18:35:26] SMILES Parse Error: Failed parsing SMILES 'Cc1ccc(CNC(=O)c2ccccncn2)cC@H](CO)CO)CO)CO)CO)CO)CO)CO)CO)CO)CO)CO)CO)CO' for input: 'Cc1ccc(CNC(=O)c2ccccncn2)cC@H](CO)CO)CO)CO)CO)CO)CO)CO)CO)CO)CO)CO)CO)CO'\n",
            "[18:35:26] Can't kekulize mol.  Unkekulized atoms: 10 11 12 13 14 15 16\n",
            "[18:35:26] SMILES Parse Error: syntax error while parsing: Cc1c(NC(=O)CSc2nc3sc(CO)(=O)NcC@@H](CO)CO)CO)CO)CO)CO)CO)CO)CO)CO)CO)CO)\n",
            "[18:35:26] SMILES Parse Error: Failed parsing SMILES 'Cc1c(NC(=O)CSc2nc3sc(CO)(=O)NcC@@H](CO)CO)CO)CO)CO)CO)CO)CO)CO)CO)CO)CO)' for input: 'Cc1c(NC(=O)CSc2nc3sc(CO)(=O)NcC@@H](CO)CO)CO)CO)CO)CO)CO)CO)CO)CO)CO)CO)'\n",
            "[18:35:26] SMILES Parse Error: syntax error while parsing: CC(C)[C@@H](Oc1cccc(=O)(=O)NcC@@H](CO)CO)CO)CO)CO)CO)CO)CO)CO)CO)CO)CO)C\n",
            "[18:35:26] SMILES Parse Error: Failed parsing SMILES 'CC(C)[C@@H](Oc1cccc(=O)(=O)NcC@@H](CO)CO)CO)CO)CO)CO)CO)CO)CO)CO)CO)CO)C' for input: 'CC(C)[C@@H](Oc1cccc(=O)(=O)NcC@@H](CO)CO)CO)CO)CO)CO)CO)CO)CO)CO)CO)CO)C'\n",
            "[18:35:26] SMILES Parse Error: syntax error while parsing: CCN(CC)C(=O)C[C@@H](CO)(=O)NcC@@H](CO)CO)CO)CO)CO)CO)CO)CO)CO)CO)CO)CO)C\n",
            "[18:35:26] SMILES Parse Error: Failed parsing SMILES 'CCN(CC)C(=O)C[C@@H](CO)(=O)NcC@@H](CO)CO)CO)CO)CO)CO)CO)CO)CO)CO)CO)CO)C' for input: 'CCN(CC)C(=O)C[C@@H](CO)(=O)NcC@@H](CO)CO)CO)CO)CO)CO)CO)CO)CO)CO)CO)CO)C'\n",
            "[18:35:26] SMILES Parse Error: syntax error while parsing: Cc1nc2c(c(Nc3ncc(C)s(CO)[CC@H]C@@H](CO)(=O)NcC@@H](CO)CO)CO)CO)CO)CO)CO)\n",
            "[18:35:26] SMILES Parse Error: Failed parsing SMILES 'Cc1nc2c(c(Nc3ncc(C)s(CO)[CC@H]C@@H](CO)(=O)NcC@@H](CO)CO)CO)CO)CO)CO)CO)' for input: 'Cc1nc2c(c(Nc3ncc(C)s(CO)[CC@H]C@@H](CO)(=O)NcC@@H](CO)CO)CO)CO)CO)CO)CO)'\n",
            "[18:35:26] SMILES Parse Error: syntax error while parsing: O=C(NCCNC(=O)N1C[C@H/CO)CO)CO)CO)CO)CO)CO)CO)CO)CO)CO)CO)CO)CO)CO)CO)CO)\n",
            "[18:35:26] SMILES Parse Error: Failed parsing SMILES 'O=C(NCCNC(=O)N1C[C@H/CO)CO)CO)CO)CO)CO)CO)CO)CO)CO)CO)CO)CO)CO)CO)CO)CO)' for input: 'O=C(NCCNC(=O)N1C[C@H/CO)CO)CO)CO)CO)CO)CO)CO)CO)CO)CO)CO)CO)CO)CO)CO)CO)'\n",
            "[18:35:26] SMILES Parse Error: syntax error while parsing: O=c1n(CCO)c2ccccc2n1cC@H](CO)(=O)NcC@@H](CO)CO)CO)CO)CO)CO)CO)CO)CO)CO)C\n",
            "[18:35:26] SMILES Parse Error: Failed parsing SMILES 'O=c1n(CCO)c2ccccc2n1cC@H](CO)(=O)NcC@@H](CO)CO)CO)CO)CO)CO)CO)CO)CO)CO)C' for input: 'O=c1n(CCO)c2ccccc2n1cC@H](CO)(=O)NcC@@H](CO)CO)CO)CO)CO)CO)CO)CO)CO)CO)C'\n",
            "[18:35:26] SMILES Parse Error: syntax error while parsing: COC(=O)Cc1csc(NC(=O)NcC@@H](CO)CO)CO)CO)CO)CO)CO)CO)CO)CO)CO)CO)CO)CO)CO\n",
            "[18:35:26] SMILES Parse Error: Failed parsing SMILES 'COC(=O)Cc1csc(NC(=O)NcC@@H](CO)CO)CO)CO)CO)CO)CO)CO)CO)CO)CO)CO)CO)CO)CO' for input: 'COC(=O)Cc1csc(NC(=O)NcC@@H](CO)CO)CO)CO)CO)CO)CO)CO)CO)CO)CO)CO)CO)CO)CO'\n",
            "[18:35:26] SMILES Parse Error: extra close parentheses while parsing: Cc1ccc(N2CC[C@@H](NS(CO)CO)CO)CO)CO)CO)CO)CO)CO)CO)CO)CO)CO)CO)CO)CO)CO)\n",
            "[18:35:26] SMILES Parse Error: Failed parsing SMILES 'Cc1ccc(N2CC[C@@H](NS(CO)CO)CO)CO)CO)CO)CO)CO)CO)CO)CO)CO)CO)CO)CO)CO)CO)' for input: 'Cc1ccc(N2CC[C@@H](NS(CO)CO)CO)CO)CO)CO)CO)CO)CO)CO)CO)CO)CO)CO)CO)CO)CO)'\n",
            "[18:35:26] SMILES Parse Error: extra close parentheses while parsing: CC[C@H](C)C[C@@H](C)=O)NcC@@H](CO)CO)CO)CO)CO)CO)CO)CO)CO)CO)CO)CO)CO)CO\n",
            "[18:35:26] SMILES Parse Error: Failed parsing SMILES 'CC[C@H](C)C[C@@H](C)=O)NcC@@H](CO)CO)CO)CO)CO)CO)CO)CO)CO)CO)CO)CO)CO)CO' for input: 'CC[C@H](C)C[C@@H](C)=O)NcC@@H](CO)CO)CO)CO)CO)CO)CO)CO)CO)CO)CO)CO)CO)CO'\n",
            "[18:35:26] SMILES Parse Error: syntax error while parsing: CC(=O)Nc1c2n(c3ccccccnH]1\n",
            "\n",
            "[18:35:26] SMILES Parse Error: Failed parsing SMILES 'CC(=O)Nc1c2n(c3ccccccnH]1\n",
            "' for input: 'CC(=O)Nc1c2n(c3ccccccnH]1\n",
            "'\n",
            "[18:35:26] SMILES Parse Error: extra close parentheses while parsing: N#Cc1ccncc1NC[C@@H]1CO)(=O)N1CCN/CCNCCCH]C@@H](CO)(=O)NcC@@H](CO)CO)CO)C\n",
            "[18:35:26] SMILES Parse Error: Failed parsing SMILES 'N#Cc1ccncc1NC[C@@H]1CO)(=O)N1CCN/CCNCCCH]C@@H](CO)(=O)NcC@@H](CO)CO)CO)C' for input: 'N#Cc1ccncc1NC[C@@H]1CO)(=O)N1CCN/CCNCCCH]C@@H](CO)(=O)NcC@@H](CO)CO)CO)C'\n",
            "[18:35:26] SMILES Parse Error: syntax error while parsing: Cc1cccn2c(=O)c(C(=O)NcC@@H](CO)CO)CO)CO)CO)CO)CO)CO)CO)CO)CO)CO)CO)CO)CO\n",
            "[18:35:26] SMILES Parse Error: Failed parsing SMILES 'Cc1cccn2c(=O)c(C(=O)NcC@@H](CO)CO)CO)CO)CO)CO)CO)CO)CO)CO)CO)CO)CO)CO)CO' for input: 'Cc1cccn2c(=O)c(C(=O)NcC@@H](CO)CO)CO)CO)CO)CO)CO)CO)CO)CO)CO)CO)CO)CO)CO'\n",
            "[18:35:26] SMILES Parse Error: syntax error while parsing: CNC(=O)c1ccc(/C=C/C(CO)NcC@@H](CO)CO)CO)CO)CO)CO)CO)CO)CO)CO)CO)CO)CO)CO\n",
            "[18:35:26] SMILES Parse Error: Failed parsing SMILES 'CNC(=O)c1ccc(/C=C/C(CO)NcC@@H](CO)CO)CO)CO)CO)CO)CO)CO)CO)CO)CO)CO)CO)CO' for input: 'CNC(=O)c1ccc(/C=C/C(CO)NcC@@H](CO)CO)CO)CO)CO)CO)CO)CO)CO)CO)CO)CO)CO)CO'\n",
            "[18:35:26] SMILES Parse Error: syntax error while parsing: CC1=C(CNC(=O)c2cc(-c)cO-])cO-])CO)CO)CO)CO)CO)CO)CO)CO)CO)CO)CO)CO)CO)CO\n",
            "[18:35:26] SMILES Parse Error: Failed parsing SMILES 'CC1=C(CNC(=O)c2cc(-c)cO-])cO-])CO)CO)CO)CO)CO)CO)CO)CO)CO)CO)CO)CO)CO)CO' for input: 'CC1=C(CNC(=O)c2cc(-c)cO-])cO-])CO)CO)CO)CO)CO)CO)CO)CO)CO)CO)CO)CO)CO)CO'\n",
            "[18:35:26] SMILES Parse Error: syntax error while parsing: C[C@@H](NC(=O)COC(=O)NcC@H](CO)CO)CO)CO)CO)CO)CO)CO)CO)CO)CO)CO)CO)CO)CO\n",
            "[18:35:26] SMILES Parse Error: Failed parsing SMILES 'C[C@@H](NC(=O)COC(=O)NcC@H](CO)CO)CO)CO)CO)CO)CO)CO)CO)CO)CO)CO)CO)CO)CO' for input: 'C[C@@H](NC(=O)COC(=O)NcC@H](CO)CO)CO)CO)CO)CO)CO)CO)CO)CO)CO)CO)CO)CO)CO'\n",
            "[18:35:26] SMILES Parse Error: syntax error while parsing: CCc1ccc(N(Cc2ccc(C)s(CO)cO-])CO)CO)CO)CO)CO)CO)CO)CO)CO)CO)CO)CO)CO)CO)C\n",
            "[18:35:26] SMILES Parse Error: Failed parsing SMILES 'CCc1ccc(N(Cc2ccc(C)s(CO)cO-])CO)CO)CO)CO)CO)CO)CO)CO)CO)CO)CO)CO)CO)CO)C' for input: 'CCc1ccc(N(Cc2ccc(C)s(CO)cO-])CO)CO)CO)CO)CO)CO)CO)CO)CO)CO)CO)CO)CO)CO)C'\n",
            "[18:35:26] SMILES Parse Error: extra close parentheses while parsing: CCOC(=O)c1nnc2ccccc2=O)cC@H](CO)CO)CO)CO)CO)CO)CO)CO)CO)CO)CO)CO)CO)CO)C\n",
            "[18:35:26] SMILES Parse Error: Failed parsing SMILES 'CCOC(=O)c1nnc2ccccc2=O)cC@H](CO)CO)CO)CO)CO)CO)CO)CO)CO)CO)CO)CO)CO)CO)C' for input: 'CCOC(=O)c1nnc2ccccc2=O)cC@H](CO)CO)CO)CO)CO)CO)CO)CO)CO)CO)CO)CO)CO)CO)C'\n",
            "[18:35:26] SMILES Parse Error: syntax error while parsing: Cc1ccc(C#N)cc1S(=O)(=O)NcC@@H](CO)CO)CO)CO)CO)CO)CO)CO)CO)CO)CO)CO)CO)CO\n",
            "[18:35:26] SMILES Parse Error: Failed parsing SMILES 'Cc1ccc(C#N)cc1S(=O)(=O)NcC@@H](CO)CO)CO)CO)CO)CO)CO)CO)CO)CO)CO)CO)CO)CO' for input: 'Cc1ccc(C#N)cc1S(=O)(=O)NcC@@H](CO)CO)CO)CO)CO)CO)CO)CO)CO)CO)CO)CO)CO)CO'\n",
            "[18:35:26] SMILES Parse Error: extra close parentheses while parsing: O=C(O[C@H]1CCOC1)C1(CO)CO)CO)CO)CO)CO)CO)CO)CO)CO)CO)CO)CO)CO)CO)CO)CO)C\n",
            "[18:35:26] SMILES Parse Error: Failed parsing SMILES 'O=C(O[C@H]1CCOC1)C1(CO)CO)CO)CO)CO)CO)CO)CO)CO)CO)CO)CO)CO)CO)CO)CO)CO)C' for input: 'O=C(O[C@H]1CCOC1)C1(CO)CO)CO)CO)CO)CO)CO)CO)CO)CO)CO)CO)CO)CO)CO)CO)CO)C'\n",
            "[18:35:26] SMILES Parse Error: syntax error while parsing: CCC[NH2+][C@@H]1COC[(CO)CO)CO)CO)CO)CO)CO)CO)CO)CO)CO)CO)CO)CO)CO)CO)CO)\n",
            "[18:35:26] SMILES Parse Error: Failed parsing SMILES 'CCC[NH2+][C@@H]1COC[(CO)CO)CO)CO)CO)CO)CO)CO)CO)CO)CO)CO)CO)CO)CO)CO)CO)' for input: 'CCC[NH2+][C@@H]1COC[(CO)CO)CO)CO)CO)CO)CO)CO)CO)CO)CO)CO)CO)CO)CO)CO)CO)'\n",
            "[18:35:26] SMILES Parse Error: extra open parentheses for input: 'O=C(NCc1nccc2ccccc12\n",
            "'\n",
            "[18:35:26] SMILES Parse Error: syntax error while parsing: CC(=O)c1ccc(S(=O)(=O)NcC@@H](CO)CO)CO)CO)CO)CO)CO)CO)CO)CO)CO)CO)CO)CO)C\n",
            "[18:35:26] SMILES Parse Error: Failed parsing SMILES 'CC(=O)c1ccc(S(=O)(=O)NcC@@H](CO)CO)CO)CO)CO)CO)CO)CO)CO)CO)CO)CO)CO)CO)C' for input: 'CC(=O)c1ccc(S(=O)(=O)NcC@@H](CO)CO)CO)CO)CO)CO)CO)CO)CO)CO)CO)CO)CO)CO)C'\n",
            "[18:35:26] SMILES Parse Error: syntax error while parsing: O=[N+]([O-])c1c(Nc2cC@H](CO)CO)CO)CO)CO)CO)CO)CO)CO)CO)CO)CO)CO)CO)CO)CO\n",
            "[18:35:26] SMILES Parse Error: Failed parsing SMILES 'O=[N+]([O-])c1c(Nc2cC@H](CO)CO)CO)CO)CO)CO)CO)CO)CO)CO)CO)CO)CO)CO)CO)CO' for input: 'O=[N+]([O-])c1c(Nc2cC@H](CO)CO)CO)CO)CO)CO)CO)CO)CO)CO)CO)CO)CO)CO)CO)CO'\n",
            "[18:35:26] SMILES Parse Error: syntax error while parsing: O=C(CCCO)Nc1ccc(F)ccC@H](CO)CO)CO)CO)CO)CO)CO)CO)CO)CO)CO)CO)CO)CO)CO)CO\n",
            "[18:35:26] SMILES Parse Error: Failed parsing SMILES 'O=C(CCCO)Nc1ccc(F)ccC@H](CO)CO)CO)CO)CO)CO)CO)CO)CO)CO)CO)CO)CO)CO)CO)CO' for input: 'O=C(CCCO)Nc1ccc(F)ccC@H](CO)CO)CO)CO)CO)CO)CO)CO)CO)CO)CO)CO)CO)CO)CO)CO'\n",
            "[18:35:26] SMILES Parse Error: syntax error while parsing: NC(=O)CCOc1ccc(NC(=O)NcC@@H](CO)CO)CO)CO)CO)CO)CO)CO)CO)CO)CO)CO)CO)CO)C\n",
            "[18:35:26] SMILES Parse Error: Failed parsing SMILES 'NC(=O)CCOc1ccc(NC(=O)NcC@@H](CO)CO)CO)CO)CO)CO)CO)CO)CO)CO)CO)CO)CO)CO)C' for input: 'NC(=O)CCOc1ccc(NC(=O)NcC@@H](CO)CO)CO)CO)CO)CO)CO)CO)CO)CO)CO)CO)CO)CO)C'\n",
            "[18:35:26] SMILES Parse Error: syntax error while parsing: COc1cc(C)ccc1OCC(=O)NcC@@H](CO)CO)CO)CO)CO)CO)CO)CO)CO)CO)CO)CO)CO)CO)CO\n",
            "[18:35:26] SMILES Parse Error: Failed parsing SMILES 'COc1cc(C)ccc1OCC(=O)NcC@@H](CO)CO)CO)CO)CO)CO)CO)CO)CO)CO)CO)CO)CO)CO)CO' for input: 'COc1cc(C)ccc1OCC(=O)NcC@@H](CO)CO)CO)CO)CO)CO)CO)CO)CO)CO)CO)CO)CO)CO)CO'\n",
            "[18:35:26] SMILES Parse Error: syntax error while parsing: CC(=O)c1c(O)cccc1COc(=O)(=O)NcC@@H](CO)CO)CO)CO)CO)CO)CO)CO)CO)CO)CO)CO)\n",
            "[18:35:26] SMILES Parse Error: Failed parsing SMILES 'CC(=O)c1c(O)cccc1COc(=O)(=O)NcC@@H](CO)CO)CO)CO)CO)CO)CO)CO)CO)CO)CO)CO)' for input: 'CC(=O)c1c(O)cccc1COc(=O)(=O)NcC@@H](CO)CO)CO)CO)CO)CO)CO)CO)CO)CO)CO)CO)'\n",
            "[18:35:26] SMILES Parse Error: extra close parentheses while parsing: CCn1cc(S(=O)(=O)N2CCC/CO)CO)CO)CO)CO)CO)CO)CO)CO)CO)CO)CO)CO)CO)CO)CO)CO\n",
            "[18:35:26] SMILES Parse Error: Failed parsing SMILES 'CCn1cc(S(=O)(=O)N2CCC/CO)CO)CO)CO)CO)CO)CO)CO)CO)CO)CO)CO)CO)CO)CO)CO)CO' for input: 'CCn1cc(S(=O)(=O)N2CCC/CO)CO)CO)CO)CO)CO)CO)CO)CO)CO)CO)CO)CO)CO)CO)CO)CO'\n",
            "[18:35:26] SMILES Parse Error: syntax error while parsing: COC(=O)[C@](NC(=O)c1cC@H](CO)CO)CO)CO)CO)CO)CO)CO)CO)CO)CO)CO)CO)CO)CO)C\n",
            "[18:35:26] SMILES Parse Error: Failed parsing SMILES 'COC(=O)[C@](NC(=O)c1cC@H](CO)CO)CO)CO)CO)CO)CO)CO)CO)CO)CO)CO)CO)CO)CO)C' for input: 'COC(=O)[C@](NC(=O)c1cC@H](CO)CO)CO)CO)CO)CO)CO)CO)CO)CO)CO)CO)CO)CO)CO)C'\n",
            "[18:35:26] SMILES Parse Error: syntax error while parsing: Cc1[nH]c2ccc(C(=O)NcC@@H](CO)CO)CO)CO)CO)CO)CO)CO)CO)CO)CO)CO)CO)CO)CO)C\n",
            "[18:35:26] SMILES Parse Error: Failed parsing SMILES 'Cc1[nH]c2ccc(C(=O)NcC@@H](CO)CO)CO)CO)CO)CO)CO)CO)CO)CO)CO)CO)CO)CO)CO)C' for input: 'Cc1[nH]c2ccc(C(=O)NcC@@H](CO)CO)CO)CO)CO)CO)CO)CO)CO)CO)CO)CO)CO)CO)CO)C'\n",
            "[18:35:26] SMILES Parse Error: extra close parentheses while parsing: Cc1noc(C)c1C[C@H](C)=O)N(CO)CO)CO)CO)CO)CO)CO)CO)CO)CO)CO)CO)CO)CO)CO)CO\n",
            "[18:35:26] SMILES Parse Error: Failed parsing SMILES 'Cc1noc(C)c1C[C@H](C)=O)N(CO)CO)CO)CO)CO)CO)CO)CO)CO)CO)CO)CO)CO)CO)CO)CO' for input: 'Cc1noc(C)c1C[C@H](C)=O)N(CO)CO)CO)CO)CO)CO)CO)CO)CO)CO)CO)CO)CO)CO)CO)CO'\n",
            "[18:35:26] SMILES Parse Error: syntax error while parsing: CCn1cc(C(=O)N[C@H]2CO)(=O)NcC@@H](CO)CO)CO)CO)CO)CO)CO)CO)CO)CO)CO)CO)CO\n",
            "[18:35:26] SMILES Parse Error: Failed parsing SMILES 'CCn1cc(C(=O)N[C@H]2CO)(=O)NcC@@H](CO)CO)CO)CO)CO)CO)CO)CO)CO)CO)CO)CO)CO' for input: 'CCn1cc(C(=O)N[C@H]2CO)(=O)NcC@@H](CO)CO)CO)CO)CO)CO)CO)CO)CO)CO)CO)CO)CO'\n",
            "100%|██████████| 50/50 [00:00<00:00, 3125.23it/s]\n"
          ]
        },
        {
          "output_type": "execute_result",
          "data": {
            "text/plain": [
              "[None,\n",
              " None,\n",
              " None,\n",
              " None,\n",
              " None,\n",
              " None,\n",
              " None,\n",
              " <rdkit.Chem.rdchem.Mol at 0x7e04558cb5a0>,\n",
              " None,\n",
              " None,\n",
              " None,\n",
              " None,\n",
              " None,\n",
              " None,\n",
              " None,\n",
              " None,\n",
              " None,\n",
              " None,\n",
              " None,\n",
              " None,\n",
              " None,\n",
              " None,\n",
              " None,\n",
              " None,\n",
              " None,\n",
              " None,\n",
              " None,\n",
              " None,\n",
              " None,\n",
              " None,\n",
              " None,\n",
              " None,\n",
              " None,\n",
              " None,\n",
              " None,\n",
              " None,\n",
              " None,\n",
              " None,\n",
              " None,\n",
              " None,\n",
              " None,\n",
              " None,\n",
              " None,\n",
              " None,\n",
              " None,\n",
              " None,\n",
              " None,\n",
              " None,\n",
              " None,\n",
              " None]"
            ]
          },
          "metadata": {},
          "execution_count": 49
        }
      ]
    },
    {
      "cell_type": "markdown",
      "source": [
        "With rdkit compute the Quantified Estimated Drug likelyness (QED) of each molecule in this subset"
      ],
      "metadata": {
        "id": "eQwmMBBnyyiY"
      }
    },
    {
      "cell_type": "code",
      "source": [
        "qed_values = [QED.qed(mol) for mol in real_mol if mol is not None]\n",
        "qed_values"
      ],
      "metadata": {
        "id": "EPboRawUyyiZ",
        "trusted": true,
        "colab": {
          "base_uri": "https://localhost:8080/"
        },
        "outputId": "93af521d-f9b9-4747-8472-05a705e5c7eb"
      },
      "execution_count": 51,
      "outputs": [
        {
          "output_type": "execute_result",
          "data": {
            "text/plain": [
              "[0.7657678960093222]"
            ]
          },
          "metadata": {},
          "execution_count": 51
        }
      ]
    },
    {
      "cell_type": "markdown",
      "source": [
        "Bonus 1 : Using rdkit, compute the quantitative estimation of drug-likeness (QED) of your generated molecules."
      ],
      "metadata": {
        "id": "9En9mvfOyyiZ"
      }
    },
    {
      "cell_type": "code",
      "source": [],
      "metadata": {
        "id": "xEVMckghyyia"
      },
      "execution_count": null,
      "outputs": []
    },
    {
      "cell_type": "markdown",
      "source": [
        "Bonus 2 : try to adapt a transformer model training from hugging face to see if it is better"
      ],
      "metadata": {
        "id": "PtCbYnIuyyib"
      }
    },
    {
      "cell_type": "code",
      "source": [],
      "metadata": {
        "id": "SnMy9_I1yyib"
      },
      "execution_count": null,
      "outputs": []
    }
  ]
}